{
 "cells": [
  {
   "cell_type": "code",
   "execution_count": null,
   "metadata": {},
   "outputs": [],
   "source": [
    "#Coleta, limpeza, análise e visualização. "
   ]
  },
  {
   "cell_type": "code",
   "execution_count": 4,
   "metadata": {},
   "outputs": [],
   "source": [
    "#importando as bibliotecas:\n",
    "import pandas as pd \n",
    "import numpy as np\n",
    "import matplotlib.pyplot as plt\n",
    "import seaborn as sns"
   ]
  },
  {
   "attachments": {},
   "cell_type": "markdown",
   "metadata": {},
   "source": [
    "### COLETA:\n",
    "- irei usar 'customers_dataset', 'order_payment_dataset', 'order_reviews_dataset', 'orders_dataset'. "
   ]
  },
  {
   "cell_type": "code",
   "execution_count": 50,
   "metadata": {},
   "outputs": [
    {
     "data": {
      "text/html": [
       "<div>\n",
       "<style scoped>\n",
       "    .dataframe tbody tr th:only-of-type {\n",
       "        vertical-align: middle;\n",
       "    }\n",
       "\n",
       "    .dataframe tbody tr th {\n",
       "        vertical-align: top;\n",
       "    }\n",
       "\n",
       "    .dataframe thead th {\n",
       "        text-align: right;\n",
       "    }\n",
       "</style>\n",
       "<table border=\"1\" class=\"dataframe\">\n",
       "  <thead>\n",
       "    <tr style=\"text-align: right;\">\n",
       "      <th></th>\n",
       "      <th>0</th>\n",
       "      <th>1</th>\n",
       "      <th>2</th>\n",
       "      <th>3</th>\n",
       "      <th>4</th>\n",
       "      <th>5</th>\n",
       "      <th>6</th>\n",
       "      <th>7</th>\n",
       "      <th>8</th>\n",
       "      <th>9</th>\n",
       "      <th>...</th>\n",
       "      <th>99431</th>\n",
       "      <th>99432</th>\n",
       "      <th>99433</th>\n",
       "      <th>99434</th>\n",
       "      <th>99435</th>\n",
       "      <th>99436</th>\n",
       "      <th>99437</th>\n",
       "      <th>99438</th>\n",
       "      <th>99439</th>\n",
       "      <th>99440</th>\n",
       "    </tr>\n",
       "  </thead>\n",
       "  <tbody>\n",
       "    <tr>\n",
       "      <th>customer_id</th>\n",
       "      <td>06b8999e2fba1a1fbc88172c00ba8bc7</td>\n",
       "      <td>18955e83d337fd6b2def6b18a428ac77</td>\n",
       "      <td>4e7b3e00288586ebd08712fdd0374a03</td>\n",
       "      <td>b2b6027bc5c5109e529d4dc6358b12c3</td>\n",
       "      <td>4f2d8ab171c80ec8364f7c12e35b23ad</td>\n",
       "      <td>879864dab9bc3047522c92c82e1212b8</td>\n",
       "      <td>fd826e7cf63160e536e0908c76c3f441</td>\n",
       "      <td>5e274e7a0c3809e14aba7ad5aae0d407</td>\n",
       "      <td>5adf08e34b2e993982a47070956c5c65</td>\n",
       "      <td>4b7139f34592b3a31687243a302fa75b</td>\n",
       "      <td>...</td>\n",
       "      <td>be842c57a8c5a62e9585dd72f22b6338</td>\n",
       "      <td>f255d679c7c86c24ef4861320d5b7675</td>\n",
       "      <td>14308d2303a3e2bdf4939b86c46d2679</td>\n",
       "      <td>f5a0b560f9e9427792a88bec97710212</td>\n",
       "      <td>7fe2e80252a9ea476f950ae8f85b0f8f</td>\n",
       "      <td>17ddf5dd5d51696bb3d7c6291687be6f</td>\n",
       "      <td>e7b71a9017aa05c9a7fd292d714858e8</td>\n",
       "      <td>5e28dfe12db7fb50a4b2f691faecea5e</td>\n",
       "      <td>56b18e2166679b8a959d72dd06da27f9</td>\n",
       "      <td>274fa6071e5e17fe303b9748641082c8</td>\n",
       "    </tr>\n",
       "    <tr>\n",
       "      <th>customer_unique_id</th>\n",
       "      <td>861eff4711a542e4b93843c6dd7febb0</td>\n",
       "      <td>290c77bc529b7ac935b93aa66c333dc3</td>\n",
       "      <td>060e732b5b29e8181a18229c7b0b2b5e</td>\n",
       "      <td>259dac757896d24d7702b9acbbff3f3c</td>\n",
       "      <td>345ecd01c38d18a9036ed96c73b8d066</td>\n",
       "      <td>4c93744516667ad3b8f1fb645a3116a4</td>\n",
       "      <td>addec96d2e059c80c30fe6871d30d177</td>\n",
       "      <td>57b2a98a409812fe9618067b6b8ebe4f</td>\n",
       "      <td>1175e95fb47ddff9de6b2b06188f7e0d</td>\n",
       "      <td>9afe194fb833f79e300e37e580171f22</td>\n",
       "      <td>...</td>\n",
       "      <td>ca186065de6e2d01cfc99763e6d62048</td>\n",
       "      <td>d111b06b6f3a2add0d2241325f65b5ca</td>\n",
       "      <td>e7f8760e2bbd2f1986bebd99596c088e</td>\n",
       "      <td>b3e53d18a997f27a3ffd16da497eaf58</td>\n",
       "      <td>4b5820135d360a45552b5163835b1d89</td>\n",
       "      <td>1a29b476fee25c95fbafc67c5ac95cf8</td>\n",
       "      <td>d52a67c98be1cf6a5c84435bd38d095d</td>\n",
       "      <td>e9f50caf99f032f0bf3c55141f019d99</td>\n",
       "      <td>73c2643a0a458b49f58cea58833b192e</td>\n",
       "      <td>84732c5050c01db9b23e19ba39899398</td>\n",
       "    </tr>\n",
       "    <tr>\n",
       "      <th>customer_zip_code_prefix</th>\n",
       "      <td>14409</td>\n",
       "      <td>9790</td>\n",
       "      <td>1151</td>\n",
       "      <td>8775</td>\n",
       "      <td>13056</td>\n",
       "      <td>89254</td>\n",
       "      <td>4534</td>\n",
       "      <td>35182</td>\n",
       "      <td>81560</td>\n",
       "      <td>30575</td>\n",
       "      <td>...</td>\n",
       "      <td>99150</td>\n",
       "      <td>13500</td>\n",
       "      <td>66033</td>\n",
       "      <td>7790</td>\n",
       "      <td>35500</td>\n",
       "      <td>3937</td>\n",
       "      <td>6764</td>\n",
       "      <td>60115</td>\n",
       "      <td>92120</td>\n",
       "      <td>6703</td>\n",
       "    </tr>\n",
       "    <tr>\n",
       "      <th>customer_city</th>\n",
       "      <td>franca</td>\n",
       "      <td>sao bernardo do campo</td>\n",
       "      <td>sao paulo</td>\n",
       "      <td>mogi das cruzes</td>\n",
       "      <td>campinas</td>\n",
       "      <td>jaragua do sul</td>\n",
       "      <td>sao paulo</td>\n",
       "      <td>timoteo</td>\n",
       "      <td>curitiba</td>\n",
       "      <td>belo horizonte</td>\n",
       "      <td>...</td>\n",
       "      <td>marau</td>\n",
       "      <td>rio claro</td>\n",
       "      <td>belem</td>\n",
       "      <td>cajamar</td>\n",
       "      <td>divinopolis</td>\n",
       "      <td>sao paulo</td>\n",
       "      <td>taboao da serra</td>\n",
       "      <td>fortaleza</td>\n",
       "      <td>canoas</td>\n",
       "      <td>cotia</td>\n",
       "    </tr>\n",
       "    <tr>\n",
       "      <th>customer_state</th>\n",
       "      <td>SP</td>\n",
       "      <td>SP</td>\n",
       "      <td>SP</td>\n",
       "      <td>SP</td>\n",
       "      <td>SP</td>\n",
       "      <td>SC</td>\n",
       "      <td>SP</td>\n",
       "      <td>MG</td>\n",
       "      <td>PR</td>\n",
       "      <td>MG</td>\n",
       "      <td>...</td>\n",
       "      <td>RS</td>\n",
       "      <td>SP</td>\n",
       "      <td>PA</td>\n",
       "      <td>SP</td>\n",
       "      <td>MG</td>\n",
       "      <td>SP</td>\n",
       "      <td>SP</td>\n",
       "      <td>CE</td>\n",
       "      <td>RS</td>\n",
       "      <td>SP</td>\n",
       "    </tr>\n",
       "  </tbody>\n",
       "</table>\n",
       "<p>5 rows × 99441 columns</p>\n",
       "</div>"
      ],
      "text/plain": [
       "                                                     0      \\\n",
       "customer_id               06b8999e2fba1a1fbc88172c00ba8bc7   \n",
       "customer_unique_id        861eff4711a542e4b93843c6dd7febb0   \n",
       "customer_zip_code_prefix                             14409   \n",
       "customer_city                                       franca   \n",
       "customer_state                                          SP   \n",
       "\n",
       "                                                     1      \\\n",
       "customer_id               18955e83d337fd6b2def6b18a428ac77   \n",
       "customer_unique_id        290c77bc529b7ac935b93aa66c333dc3   \n",
       "customer_zip_code_prefix                              9790   \n",
       "customer_city                        sao bernardo do campo   \n",
       "customer_state                                          SP   \n",
       "\n",
       "                                                     2      \\\n",
       "customer_id               4e7b3e00288586ebd08712fdd0374a03   \n",
       "customer_unique_id        060e732b5b29e8181a18229c7b0b2b5e   \n",
       "customer_zip_code_prefix                              1151   \n",
       "customer_city                                    sao paulo   \n",
       "customer_state                                          SP   \n",
       "\n",
       "                                                     3      \\\n",
       "customer_id               b2b6027bc5c5109e529d4dc6358b12c3   \n",
       "customer_unique_id        259dac757896d24d7702b9acbbff3f3c   \n",
       "customer_zip_code_prefix                              8775   \n",
       "customer_city                              mogi das cruzes   \n",
       "customer_state                                          SP   \n",
       "\n",
       "                                                     4      \\\n",
       "customer_id               4f2d8ab171c80ec8364f7c12e35b23ad   \n",
       "customer_unique_id        345ecd01c38d18a9036ed96c73b8d066   \n",
       "customer_zip_code_prefix                             13056   \n",
       "customer_city                                     campinas   \n",
       "customer_state                                          SP   \n",
       "\n",
       "                                                     5      \\\n",
       "customer_id               879864dab9bc3047522c92c82e1212b8   \n",
       "customer_unique_id        4c93744516667ad3b8f1fb645a3116a4   \n",
       "customer_zip_code_prefix                             89254   \n",
       "customer_city                               jaragua do sul   \n",
       "customer_state                                          SC   \n",
       "\n",
       "                                                     6      \\\n",
       "customer_id               fd826e7cf63160e536e0908c76c3f441   \n",
       "customer_unique_id        addec96d2e059c80c30fe6871d30d177   \n",
       "customer_zip_code_prefix                              4534   \n",
       "customer_city                                    sao paulo   \n",
       "customer_state                                          SP   \n",
       "\n",
       "                                                     7      \\\n",
       "customer_id               5e274e7a0c3809e14aba7ad5aae0d407   \n",
       "customer_unique_id        57b2a98a409812fe9618067b6b8ebe4f   \n",
       "customer_zip_code_prefix                             35182   \n",
       "customer_city                                      timoteo   \n",
       "customer_state                                          MG   \n",
       "\n",
       "                                                     8      \\\n",
       "customer_id               5adf08e34b2e993982a47070956c5c65   \n",
       "customer_unique_id        1175e95fb47ddff9de6b2b06188f7e0d   \n",
       "customer_zip_code_prefix                             81560   \n",
       "customer_city                                     curitiba   \n",
       "customer_state                                          PR   \n",
       "\n",
       "                                                     9      ...  \\\n",
       "customer_id               4b7139f34592b3a31687243a302fa75b  ...   \n",
       "customer_unique_id        9afe194fb833f79e300e37e580171f22  ...   \n",
       "customer_zip_code_prefix                             30575  ...   \n",
       "customer_city                               belo horizonte  ...   \n",
       "customer_state                                          MG  ...   \n",
       "\n",
       "                                                     99431  \\\n",
       "customer_id               be842c57a8c5a62e9585dd72f22b6338   \n",
       "customer_unique_id        ca186065de6e2d01cfc99763e6d62048   \n",
       "customer_zip_code_prefix                             99150   \n",
       "customer_city                                        marau   \n",
       "customer_state                                          RS   \n",
       "\n",
       "                                                     99432  \\\n",
       "customer_id               f255d679c7c86c24ef4861320d5b7675   \n",
       "customer_unique_id        d111b06b6f3a2add0d2241325f65b5ca   \n",
       "customer_zip_code_prefix                             13500   \n",
       "customer_city                                    rio claro   \n",
       "customer_state                                          SP   \n",
       "\n",
       "                                                     99433  \\\n",
       "customer_id               14308d2303a3e2bdf4939b86c46d2679   \n",
       "customer_unique_id        e7f8760e2bbd2f1986bebd99596c088e   \n",
       "customer_zip_code_prefix                             66033   \n",
       "customer_city                                        belem   \n",
       "customer_state                                          PA   \n",
       "\n",
       "                                                     99434  \\\n",
       "customer_id               f5a0b560f9e9427792a88bec97710212   \n",
       "customer_unique_id        b3e53d18a997f27a3ffd16da497eaf58   \n",
       "customer_zip_code_prefix                              7790   \n",
       "customer_city                                      cajamar   \n",
       "customer_state                                          SP   \n",
       "\n",
       "                                                     99435  \\\n",
       "customer_id               7fe2e80252a9ea476f950ae8f85b0f8f   \n",
       "customer_unique_id        4b5820135d360a45552b5163835b1d89   \n",
       "customer_zip_code_prefix                             35500   \n",
       "customer_city                                  divinopolis   \n",
       "customer_state                                          MG   \n",
       "\n",
       "                                                     99436  \\\n",
       "customer_id               17ddf5dd5d51696bb3d7c6291687be6f   \n",
       "customer_unique_id        1a29b476fee25c95fbafc67c5ac95cf8   \n",
       "customer_zip_code_prefix                              3937   \n",
       "customer_city                                    sao paulo   \n",
       "customer_state                                          SP   \n",
       "\n",
       "                                                     99437  \\\n",
       "customer_id               e7b71a9017aa05c9a7fd292d714858e8   \n",
       "customer_unique_id        d52a67c98be1cf6a5c84435bd38d095d   \n",
       "customer_zip_code_prefix                              6764   \n",
       "customer_city                              taboao da serra   \n",
       "customer_state                                          SP   \n",
       "\n",
       "                                                     99438  \\\n",
       "customer_id               5e28dfe12db7fb50a4b2f691faecea5e   \n",
       "customer_unique_id        e9f50caf99f032f0bf3c55141f019d99   \n",
       "customer_zip_code_prefix                             60115   \n",
       "customer_city                                    fortaleza   \n",
       "customer_state                                          CE   \n",
       "\n",
       "                                                     99439  \\\n",
       "customer_id               56b18e2166679b8a959d72dd06da27f9   \n",
       "customer_unique_id        73c2643a0a458b49f58cea58833b192e   \n",
       "customer_zip_code_prefix                             92120   \n",
       "customer_city                                       canoas   \n",
       "customer_state                                          RS   \n",
       "\n",
       "                                                     99440  \n",
       "customer_id               274fa6071e5e17fe303b9748641082c8  \n",
       "customer_unique_id        84732c5050c01db9b23e19ba39899398  \n",
       "customer_zip_code_prefix                              6703  \n",
       "customer_city                                        cotia  \n",
       "customer_state                                          SP  \n",
       "\n",
       "[5 rows x 99441 columns]"
      ]
     },
     "execution_count": 50,
     "metadata": {},
     "output_type": "execute_result"
    }
   ],
   "source": [
    "#df dos clientes: \n",
    "df_clientes = pd.read_csv('olist_casa/olist_customers_dataset.csv')\n",
    "df_clientes.T"
   ]
  },
  {
   "attachments": {},
   "cell_type": "markdown",
   "metadata": {},
   "source": [
    "### Descrição das colunas: \n",
    "- customer_id: ID do cliente, cada pedido tem o seu próprio.\n",
    "- customer_unique_id: ID exclusivo de um cliente.\n",
    "- customer_zip_code_prefix: É o CEP de cada cliente.\n",
    "- customer_city: Cidade de cada cliente.\n",
    "- customer_state: Estado de cada cliente."
   ]
  },
  {
   "cell_type": "code",
   "execution_count": 11,
   "metadata": {},
   "outputs": [
    {
     "data": {
      "text/html": [
       "<div>\n",
       "<style scoped>\n",
       "    .dataframe tbody tr th:only-of-type {\n",
       "        vertical-align: middle;\n",
       "    }\n",
       "\n",
       "    .dataframe tbody tr th {\n",
       "        vertical-align: top;\n",
       "    }\n",
       "\n",
       "    .dataframe thead th {\n",
       "        text-align: right;\n",
       "    }\n",
       "</style>\n",
       "<table border=\"1\" class=\"dataframe\">\n",
       "  <thead>\n",
       "    <tr style=\"text-align: right;\">\n",
       "      <th></th>\n",
       "      <th>0</th>\n",
       "      <th>1</th>\n",
       "      <th>2</th>\n",
       "      <th>3</th>\n",
       "      <th>4</th>\n",
       "    </tr>\n",
       "  </thead>\n",
       "  <tbody>\n",
       "    <tr>\n",
       "      <th>order_id</th>\n",
       "      <td>b81ef226f3fe1789b1e8b2acac839d17</td>\n",
       "      <td>a9810da82917af2d9aefd1278f1dcfa0</td>\n",
       "      <td>25e8ea4e93396b6fa0d3dd708e76c1bd</td>\n",
       "      <td>ba78997921bbcdc1373bb41e913ab953</td>\n",
       "      <td>42fdf880ba16b47b59251dd489d4441a</td>\n",
       "    </tr>\n",
       "    <tr>\n",
       "      <th>payment_sequential</th>\n",
       "      <td>1</td>\n",
       "      <td>1</td>\n",
       "      <td>1</td>\n",
       "      <td>1</td>\n",
       "      <td>1</td>\n",
       "    </tr>\n",
       "    <tr>\n",
       "      <th>payment_type</th>\n",
       "      <td>credit_card</td>\n",
       "      <td>credit_card</td>\n",
       "      <td>credit_card</td>\n",
       "      <td>credit_card</td>\n",
       "      <td>credit_card</td>\n",
       "    </tr>\n",
       "    <tr>\n",
       "      <th>payment_installments</th>\n",
       "      <td>8</td>\n",
       "      <td>1</td>\n",
       "      <td>1</td>\n",
       "      <td>8</td>\n",
       "      <td>2</td>\n",
       "    </tr>\n",
       "    <tr>\n",
       "      <th>payment_value</th>\n",
       "      <td>99.33</td>\n",
       "      <td>24.39</td>\n",
       "      <td>65.71</td>\n",
       "      <td>107.78</td>\n",
       "      <td>128.45</td>\n",
       "    </tr>\n",
       "  </tbody>\n",
       "</table>\n",
       "</div>"
      ],
      "text/plain": [
       "                                                     0  \\\n",
       "order_id              b81ef226f3fe1789b1e8b2acac839d17   \n",
       "payment_sequential                                   1   \n",
       "payment_type                               credit_card   \n",
       "payment_installments                                 8   \n",
       "payment_value                                    99.33   \n",
       "\n",
       "                                                     1  \\\n",
       "order_id              a9810da82917af2d9aefd1278f1dcfa0   \n",
       "payment_sequential                                   1   \n",
       "payment_type                               credit_card   \n",
       "payment_installments                                 1   \n",
       "payment_value                                    24.39   \n",
       "\n",
       "                                                     2  \\\n",
       "order_id              25e8ea4e93396b6fa0d3dd708e76c1bd   \n",
       "payment_sequential                                   1   \n",
       "payment_type                               credit_card   \n",
       "payment_installments                                 1   \n",
       "payment_value                                    65.71   \n",
       "\n",
       "                                                     3  \\\n",
       "order_id              ba78997921bbcdc1373bb41e913ab953   \n",
       "payment_sequential                                   1   \n",
       "payment_type                               credit_card   \n",
       "payment_installments                                 8   \n",
       "payment_value                                   107.78   \n",
       "\n",
       "                                                     4  \n",
       "order_id              42fdf880ba16b47b59251dd489d4441a  \n",
       "payment_sequential                                   1  \n",
       "payment_type                               credit_card  \n",
       "payment_installments                                 2  \n",
       "payment_value                                   128.45  "
      ]
     },
     "execution_count": 11,
     "metadata": {},
     "output_type": "execute_result"
    }
   ],
   "source": [
    "#df dos pagamentos dos pedidos feitos: \n",
    "df_pagamento = pd.read_csv('olist_casa/olist_order_payments_dataset.csv')\n",
    "df_pagamento.head().T"
   ]
  },
  {
   "attachments": {},
   "cell_type": "markdown",
   "metadata": {},
   "source": [
    "### Descrição das colunas: \n",
    "- order_id: ID dos pedidos. \n",
    "- paymente_sequential: Um cliente pode pagar um pedido com mais de um método de pagamento. Se ele fizer isso, será criada uma sequência para acomodar todos os pagamentos.\n",
    "- payment_type: Método de pagamento.\n",
    "- paymente_installments: Número de parcelas que o cliente usou para pagar.\n",
    "- paymente_value: valor da transação."
   ]
  },
  {
   "cell_type": "code",
   "execution_count": 26,
   "metadata": {},
   "outputs": [
    {
     "data": {
      "text/html": [
       "<div>\n",
       "<style scoped>\n",
       "    .dataframe tbody tr th:only-of-type {\n",
       "        vertical-align: middle;\n",
       "    }\n",
       "\n",
       "    .dataframe tbody tr th {\n",
       "        vertical-align: top;\n",
       "    }\n",
       "\n",
       "    .dataframe thead th {\n",
       "        text-align: right;\n",
       "    }\n",
       "</style>\n",
       "<table border=\"1\" class=\"dataframe\">\n",
       "  <thead>\n",
       "    <tr style=\"text-align: right;\">\n",
       "      <th></th>\n",
       "      <th>0</th>\n",
       "      <th>1</th>\n",
       "      <th>2</th>\n",
       "      <th>3</th>\n",
       "      <th>4</th>\n",
       "    </tr>\n",
       "  </thead>\n",
       "  <tbody>\n",
       "    <tr>\n",
       "      <th>review_id</th>\n",
       "      <td>7bc2406110b926393aa56f80a40eba40</td>\n",
       "      <td>80e641a11e56f04c1ad469d5645fdfde</td>\n",
       "      <td>228ce5500dc1d8e020d8d1322874b6f0</td>\n",
       "      <td>e64fb393e7b32834bb789ff8bb30750e</td>\n",
       "      <td>f7c4243c7fe1938f181bec41a392bdeb</td>\n",
       "    </tr>\n",
       "    <tr>\n",
       "      <th>order_id</th>\n",
       "      <td>73fc7af87114b39712e6da79b0a377eb</td>\n",
       "      <td>a548910a1c6147796b98fdf73dbeba33</td>\n",
       "      <td>f9e4b658b201a9f2ecdecbb34bed034b</td>\n",
       "      <td>658677c97b385a9be170737859d3511b</td>\n",
       "      <td>8e6bfb81e283fa7e4f11123a3fb894f1</td>\n",
       "    </tr>\n",
       "    <tr>\n",
       "      <th>review_score</th>\n",
       "      <td>4</td>\n",
       "      <td>5</td>\n",
       "      <td>5</td>\n",
       "      <td>5</td>\n",
       "      <td>5</td>\n",
       "    </tr>\n",
       "    <tr>\n",
       "      <th>review_comment_title</th>\n",
       "      <td>NaN</td>\n",
       "      <td>NaN</td>\n",
       "      <td>NaN</td>\n",
       "      <td>NaN</td>\n",
       "      <td>NaN</td>\n",
       "    </tr>\n",
       "    <tr>\n",
       "      <th>review_comment_message</th>\n",
       "      <td>NaN</td>\n",
       "      <td>NaN</td>\n",
       "      <td>NaN</td>\n",
       "      <td>Recebi bem antes do prazo estipulado.</td>\n",
       "      <td>Parabéns lojas lannister adorei comprar pela I...</td>\n",
       "    </tr>\n",
       "    <tr>\n",
       "      <th>review_creation_date</th>\n",
       "      <td>2018-01-18 00:00:00</td>\n",
       "      <td>2018-03-10 00:00:00</td>\n",
       "      <td>2018-02-17 00:00:00</td>\n",
       "      <td>2017-04-21 00:00:00</td>\n",
       "      <td>2018-03-01 00:00:00</td>\n",
       "    </tr>\n",
       "    <tr>\n",
       "      <th>review_answer_timestamp</th>\n",
       "      <td>2018-01-18 21:46:59</td>\n",
       "      <td>2018-03-11 03:05:13</td>\n",
       "      <td>2018-02-18 14:36:24</td>\n",
       "      <td>2017-04-21 22:02:06</td>\n",
       "      <td>2018-03-02 10:26:53</td>\n",
       "    </tr>\n",
       "  </tbody>\n",
       "</table>\n",
       "</div>"
      ],
      "text/plain": [
       "                                                        0  \\\n",
       "review_id                7bc2406110b926393aa56f80a40eba40   \n",
       "order_id                 73fc7af87114b39712e6da79b0a377eb   \n",
       "review_score                                            4   \n",
       "review_comment_title                                  NaN   \n",
       "review_comment_message                                NaN   \n",
       "review_creation_date                  2018-01-18 00:00:00   \n",
       "review_answer_timestamp               2018-01-18 21:46:59   \n",
       "\n",
       "                                                        1  \\\n",
       "review_id                80e641a11e56f04c1ad469d5645fdfde   \n",
       "order_id                 a548910a1c6147796b98fdf73dbeba33   \n",
       "review_score                                            5   \n",
       "review_comment_title                                  NaN   \n",
       "review_comment_message                                NaN   \n",
       "review_creation_date                  2018-03-10 00:00:00   \n",
       "review_answer_timestamp               2018-03-11 03:05:13   \n",
       "\n",
       "                                                        2  \\\n",
       "review_id                228ce5500dc1d8e020d8d1322874b6f0   \n",
       "order_id                 f9e4b658b201a9f2ecdecbb34bed034b   \n",
       "review_score                                            5   \n",
       "review_comment_title                                  NaN   \n",
       "review_comment_message                                NaN   \n",
       "review_creation_date                  2018-02-17 00:00:00   \n",
       "review_answer_timestamp               2018-02-18 14:36:24   \n",
       "\n",
       "                                                             3  \\\n",
       "review_id                     e64fb393e7b32834bb789ff8bb30750e   \n",
       "order_id                      658677c97b385a9be170737859d3511b   \n",
       "review_score                                                 5   \n",
       "review_comment_title                                       NaN   \n",
       "review_comment_message   Recebi bem antes do prazo estipulado.   \n",
       "review_creation_date                       2017-04-21 00:00:00   \n",
       "review_answer_timestamp                    2017-04-21 22:02:06   \n",
       "\n",
       "                                                                         4  \n",
       "review_id                                 f7c4243c7fe1938f181bec41a392bdeb  \n",
       "order_id                                  8e6bfb81e283fa7e4f11123a3fb894f1  \n",
       "review_score                                                             5  \n",
       "review_comment_title                                                   NaN  \n",
       "review_comment_message   Parabéns lojas lannister adorei comprar pela I...  \n",
       "review_creation_date                                   2018-03-01 00:00:00  \n",
       "review_answer_timestamp                                2018-03-02 10:26:53  "
      ]
     },
     "execution_count": 26,
     "metadata": {},
     "output_type": "execute_result"
    }
   ],
   "source": [
    "# df das avaliações: \n",
    "df_avaliacoes = pd.read_csv('olist_casa/olist_order_reviews_dataset.csv')\n",
    "df_avaliacoes.head().T"
   ]
  },
  {
   "attachments": {},
   "cell_type": "markdown",
   "metadata": {},
   "source": [
    "### Descrição das colunas: \n",
    "- review_id: ID das avaliações.\n",
    "- order_id: ID dos pedidos. \n",
    "- review_score: Pontuação das avaliações. \n",
    "- review_comment_title: O título da avaliação deixado pelo cliente em português. \n",
    "- review_comment_message: O comentário deixado pelo cliente em português. \n",
    "- review_creation_date: Data em que a pesquisa de satisfação foi enviada ao cliente. \n",
    "- review_answer_timestamp: Data em que houve retorno da pesquisa de satifação, por parte do cliente. "
   ]
  },
  {
   "cell_type": "code",
   "execution_count": 33,
   "metadata": {},
   "outputs": [
    {
     "data": {
      "text/html": [
       "<div>\n",
       "<style scoped>\n",
       "    .dataframe tbody tr th:only-of-type {\n",
       "        vertical-align: middle;\n",
       "    }\n",
       "\n",
       "    .dataframe tbody tr th {\n",
       "        vertical-align: top;\n",
       "    }\n",
       "\n",
       "    .dataframe thead th {\n",
       "        text-align: right;\n",
       "    }\n",
       "</style>\n",
       "<table border=\"1\" class=\"dataframe\">\n",
       "  <thead>\n",
       "    <tr style=\"text-align: right;\">\n",
       "      <th></th>\n",
       "      <th>0</th>\n",
       "      <th>1</th>\n",
       "      <th>2</th>\n",
       "      <th>3</th>\n",
       "      <th>4</th>\n",
       "    </tr>\n",
       "  </thead>\n",
       "  <tbody>\n",
       "    <tr>\n",
       "      <th>order_id</th>\n",
       "      <td>e481f51cbdc54678b7cc49136f2d6af7</td>\n",
       "      <td>53cdb2fc8bc7dce0b6741e2150273451</td>\n",
       "      <td>47770eb9100c2d0c44946d9cf07ec65d</td>\n",
       "      <td>949d5b44dbf5de918fe9c16f97b45f8a</td>\n",
       "      <td>ad21c59c0840e6cb83a9ceb5573f8159</td>\n",
       "    </tr>\n",
       "    <tr>\n",
       "      <th>customer_id</th>\n",
       "      <td>9ef432eb6251297304e76186b10a928d</td>\n",
       "      <td>b0830fb4747a6c6d20dea0b8c802d7ef</td>\n",
       "      <td>41ce2a54c0b03bf3443c3d931a367089</td>\n",
       "      <td>f88197465ea7920adcdbec7375364d82</td>\n",
       "      <td>8ab97904e6daea8866dbdbc4fb7aad2c</td>\n",
       "    </tr>\n",
       "    <tr>\n",
       "      <th>order_status</th>\n",
       "      <td>delivered</td>\n",
       "      <td>delivered</td>\n",
       "      <td>delivered</td>\n",
       "      <td>delivered</td>\n",
       "      <td>delivered</td>\n",
       "    </tr>\n",
       "    <tr>\n",
       "      <th>order_purchase_timestamp</th>\n",
       "      <td>2017-10-02 10:56:33</td>\n",
       "      <td>2018-07-24 20:41:37</td>\n",
       "      <td>2018-08-08 08:38:49</td>\n",
       "      <td>2017-11-18 19:28:06</td>\n",
       "      <td>2018-02-13 21:18:39</td>\n",
       "    </tr>\n",
       "    <tr>\n",
       "      <th>order_approved_at</th>\n",
       "      <td>2017-10-02 11:07:15</td>\n",
       "      <td>2018-07-26 03:24:27</td>\n",
       "      <td>2018-08-08 08:55:23</td>\n",
       "      <td>2017-11-18 19:45:59</td>\n",
       "      <td>2018-02-13 22:20:29</td>\n",
       "    </tr>\n",
       "    <tr>\n",
       "      <th>order_delivered_carrier_date</th>\n",
       "      <td>2017-10-04 19:55:00</td>\n",
       "      <td>2018-07-26 14:31:00</td>\n",
       "      <td>2018-08-08 13:50:00</td>\n",
       "      <td>2017-11-22 13:39:59</td>\n",
       "      <td>2018-02-14 19:46:34</td>\n",
       "    </tr>\n",
       "    <tr>\n",
       "      <th>order_delivered_customer_date</th>\n",
       "      <td>2017-10-10 21:25:13</td>\n",
       "      <td>2018-08-07 15:27:45</td>\n",
       "      <td>2018-08-17 18:06:29</td>\n",
       "      <td>2017-12-02 00:28:42</td>\n",
       "      <td>2018-02-16 18:17:02</td>\n",
       "    </tr>\n",
       "    <tr>\n",
       "      <th>order_estimated_delivery_date</th>\n",
       "      <td>2017-10-18 00:00:00</td>\n",
       "      <td>2018-08-13 00:00:00</td>\n",
       "      <td>2018-09-04 00:00:00</td>\n",
       "      <td>2017-12-15 00:00:00</td>\n",
       "      <td>2018-02-26 00:00:00</td>\n",
       "    </tr>\n",
       "  </tbody>\n",
       "</table>\n",
       "</div>"
      ],
      "text/plain": [
       "                                                              0  \\\n",
       "order_id                       e481f51cbdc54678b7cc49136f2d6af7   \n",
       "customer_id                    9ef432eb6251297304e76186b10a928d   \n",
       "order_status                                          delivered   \n",
       "order_purchase_timestamp                    2017-10-02 10:56:33   \n",
       "order_approved_at                           2017-10-02 11:07:15   \n",
       "order_delivered_carrier_date                2017-10-04 19:55:00   \n",
       "order_delivered_customer_date               2017-10-10 21:25:13   \n",
       "order_estimated_delivery_date               2017-10-18 00:00:00   \n",
       "\n",
       "                                                              1  \\\n",
       "order_id                       53cdb2fc8bc7dce0b6741e2150273451   \n",
       "customer_id                    b0830fb4747a6c6d20dea0b8c802d7ef   \n",
       "order_status                                          delivered   \n",
       "order_purchase_timestamp                    2018-07-24 20:41:37   \n",
       "order_approved_at                           2018-07-26 03:24:27   \n",
       "order_delivered_carrier_date                2018-07-26 14:31:00   \n",
       "order_delivered_customer_date               2018-08-07 15:27:45   \n",
       "order_estimated_delivery_date               2018-08-13 00:00:00   \n",
       "\n",
       "                                                              2  \\\n",
       "order_id                       47770eb9100c2d0c44946d9cf07ec65d   \n",
       "customer_id                    41ce2a54c0b03bf3443c3d931a367089   \n",
       "order_status                                          delivered   \n",
       "order_purchase_timestamp                    2018-08-08 08:38:49   \n",
       "order_approved_at                           2018-08-08 08:55:23   \n",
       "order_delivered_carrier_date                2018-08-08 13:50:00   \n",
       "order_delivered_customer_date               2018-08-17 18:06:29   \n",
       "order_estimated_delivery_date               2018-09-04 00:00:00   \n",
       "\n",
       "                                                              3  \\\n",
       "order_id                       949d5b44dbf5de918fe9c16f97b45f8a   \n",
       "customer_id                    f88197465ea7920adcdbec7375364d82   \n",
       "order_status                                          delivered   \n",
       "order_purchase_timestamp                    2017-11-18 19:28:06   \n",
       "order_approved_at                           2017-11-18 19:45:59   \n",
       "order_delivered_carrier_date                2017-11-22 13:39:59   \n",
       "order_delivered_customer_date               2017-12-02 00:28:42   \n",
       "order_estimated_delivery_date               2017-12-15 00:00:00   \n",
       "\n",
       "                                                              4  \n",
       "order_id                       ad21c59c0840e6cb83a9ceb5573f8159  \n",
       "customer_id                    8ab97904e6daea8866dbdbc4fb7aad2c  \n",
       "order_status                                          delivered  \n",
       "order_purchase_timestamp                    2018-02-13 21:18:39  \n",
       "order_approved_at                           2018-02-13 22:20:29  \n",
       "order_delivered_carrier_date                2018-02-14 19:46:34  \n",
       "order_delivered_customer_date               2018-02-16 18:17:02  \n",
       "order_estimated_delivery_date               2018-02-26 00:00:00  "
      ]
     },
     "execution_count": 33,
     "metadata": {},
     "output_type": "execute_result"
    }
   ],
   "source": [
    "# df dos pedidos: \n",
    "df_pedidos = pd.read_csv('olist_casa/olist_orders_dataset.csv')\n",
    "df_pedidos.head().T"
   ]
  },
  {
   "attachments": {},
   "cell_type": "markdown",
   "metadata": {},
   "source": [
    "### Descrição das colunas: \n",
    "- order_id: ID dos pedidos.\n",
    "- customer_id: ID dos clientes.\n",
    "- order_status: Status dos pedidos. \n",
    "- order_purchase_timestamp: Data e hora em que foi comprado. \n",
    "- order_approved_at: Data e hora em que foi aprovado o pagamento. \n",
    "- order_delivered_carrier_date: Data e hora em que foi entregue ao parceiro logístico. \n",
    "- order_delivered_customer_date: Mostra a data em que foi entregue ao cliente. \n",
    "- order_estimated_delivery_date: Data estimada que foi dita ao cliente. "
   ]
  },
  {
   "attachments": {},
   "cell_type": "markdown",
   "metadata": {},
   "source": [
    "### Quais são os objetivos, tendo em conta os dataframes escolhidos?\n",
    "- Quais os estados mais comuns entre os clientes?\n",
    "- Qual o método de pagamento mais utilizado? \n",
    "- Qual o valor médio das transações? \n",
    "- Qual é a pontuação média das avaliações?\n",
    "- Qual é a média de tempo que os clientes levam para responder às pesquisas de satisfação?"
   ]
  },
  {
   "attachments": {},
   "cell_type": "markdown",
   "metadata": {},
   "source": [
    "### Limpeza"
   ]
  },
  {
   "attachments": {},
   "cell_type": "markdown",
   "metadata": {},
   "source": [
    "#### Clientes"
   ]
  },
  {
   "cell_type": "code",
   "execution_count": 59,
   "metadata": {},
   "outputs": [
    {
     "name": "stdout",
     "output_type": "stream",
     "text": [
      "<class 'pandas.core.frame.DataFrame'>\n",
      "RangeIndex: 99441 entries, 0 to 99440\n",
      "Data columns (total 5 columns):\n",
      " #   Column                    Non-Null Count  Dtype \n",
      "---  ------                    --------------  ----- \n",
      " 0   customer_id               99441 non-null  object\n",
      " 1   customer_unique_id        99441 non-null  object\n",
      " 2   customer_zip_code_prefix  99441 non-null  int64 \n",
      " 3   customer_city             99441 non-null  object\n",
      " 4   customer_state            99441 non-null  object\n",
      "dtypes: int64(1), object(4)\n",
      "memory usage: 3.8+ MB\n"
     ]
    }
   ],
   "source": [
    "df_clientes.info()\n",
    "# ok, não há dados nulos."
   ]
  },
  {
   "attachments": {},
   "cell_type": "markdown",
   "metadata": {},
   "source": [
    "### Pagamento"
   ]
  },
  {
   "cell_type": "code",
   "execution_count": 18,
   "metadata": {},
   "outputs": [
    {
     "name": "stdout",
     "output_type": "stream",
     "text": [
      "<class 'pandas.core.frame.DataFrame'>\n",
      "RangeIndex: 103886 entries, 0 to 103885\n",
      "Data columns (total 5 columns):\n",
      " #   Column                Non-Null Count   Dtype  \n",
      "---  ------                --------------   -----  \n",
      " 0   order_id              103886 non-null  object \n",
      " 1   payment_sequential    103886 non-null  int64  \n",
      " 2   payment_type          103886 non-null  object \n",
      " 3   payment_installments  103886 non-null  int64  \n",
      " 4   payment_value         103886 non-null  float64\n",
      "dtypes: float64(1), int64(2), object(2)\n",
      "memory usage: 4.0+ MB\n"
     ]
    }
   ],
   "source": [
    "df_pagamento.info()"
   ]
  },
  {
   "cell_type": "markdown",
   "metadata": {},
   "source": [
    "### Avaliações"
   ]
  },
  {
   "cell_type": "code",
   "execution_count": 27,
   "metadata": {},
   "outputs": [
    {
     "name": "stdout",
     "output_type": "stream",
     "text": [
      "<class 'pandas.core.frame.DataFrame'>\n",
      "RangeIndex: 99224 entries, 0 to 99223\n",
      "Data columns (total 7 columns):\n",
      " #   Column                   Non-Null Count  Dtype \n",
      "---  ------                   --------------  ----- \n",
      " 0   review_id                99224 non-null  object\n",
      " 1   order_id                 99224 non-null  object\n",
      " 2   review_score             99224 non-null  int64 \n",
      " 3   review_comment_title     11568 non-null  object\n",
      " 4   review_comment_message   40977 non-null  object\n",
      " 5   review_creation_date     99224 non-null  object\n",
      " 6   review_answer_timestamp  99224 non-null  object\n",
      "dtypes: int64(1), object(6)\n",
      "memory usage: 5.3+ MB\n"
     ]
    }
   ],
   "source": [
    "df_avaliacoes.info()"
   ]
  },
  {
   "cell_type": "code",
   "execution_count": 28,
   "metadata": {},
   "outputs": [],
   "source": [
    "colunas_nulas_avaliacao = ['review_comment_title','review_comment_message']\n",
    "\n",
    "df_avaliacoes = df_avaliacoes.drop(colunas_nulas_avaliacao, axis=1)"
   ]
  },
  {
   "cell_type": "code",
   "execution_count": 30,
   "metadata": {},
   "outputs": [
    {
     "name": "stdout",
     "output_type": "stream",
     "text": [
      "<class 'pandas.core.frame.DataFrame'>\n",
      "RangeIndex: 99224 entries, 0 to 99223\n",
      "Data columns (total 5 columns):\n",
      " #   Column                   Non-Null Count  Dtype \n",
      "---  ------                   --------------  ----- \n",
      " 0   review_id                99224 non-null  object\n",
      " 1   order_id                 99224 non-null  object\n",
      " 2   review_score             99224 non-null  int64 \n",
      " 3   review_creation_date     99224 non-null  object\n",
      " 4   review_answer_timestamp  99224 non-null  object\n",
      "dtypes: int64(1), object(4)\n",
      "memory usage: 3.8+ MB\n"
     ]
    }
   ],
   "source": [
    "df_avaliacoes.info()"
   ]
  },
  {
   "attachments": {},
   "cell_type": "markdown",
   "metadata": {},
   "source": [
    "### Pedidos"
   ]
  },
  {
   "cell_type": "code",
   "execution_count": 34,
   "metadata": {},
   "outputs": [
    {
     "name": "stdout",
     "output_type": "stream",
     "text": [
      "<class 'pandas.core.frame.DataFrame'>\n",
      "RangeIndex: 99441 entries, 0 to 99440\n",
      "Data columns (total 8 columns):\n",
      " #   Column                         Non-Null Count  Dtype \n",
      "---  ------                         --------------  ----- \n",
      " 0   order_id                       99441 non-null  object\n",
      " 1   customer_id                    99441 non-null  object\n",
      " 2   order_status                   99441 non-null  object\n",
      " 3   order_purchase_timestamp       99441 non-null  object\n",
      " 4   order_approved_at              99281 non-null  object\n",
      " 5   order_delivered_carrier_date   97658 non-null  object\n",
      " 6   order_delivered_customer_date  96476 non-null  object\n",
      " 7   order_estimated_delivery_date  99441 non-null  object\n",
      "dtypes: object(8)\n",
      "memory usage: 6.1+ MB\n"
     ]
    }
   ],
   "source": [
    "df_pedidos.info()"
   ]
  },
  {
   "cell_type": "code",
   "execution_count": 35,
   "metadata": {},
   "outputs": [],
   "source": [
    "colunas_nulas_pedidos = ['order_approved_at', 'order_delivered_carrier_date', 'order_delivered_customer_date']\n",
    "\n",
    "df_pedidos = df_pedidos.drop(colunas_nulas_pedidos, axis=1)"
   ]
  },
  {
   "cell_type": "code",
   "execution_count": 36,
   "metadata": {},
   "outputs": [
    {
     "name": "stdout",
     "output_type": "stream",
     "text": [
      "<class 'pandas.core.frame.DataFrame'>\n",
      "RangeIndex: 99441 entries, 0 to 99440\n",
      "Data columns (total 5 columns):\n",
      " #   Column                         Non-Null Count  Dtype \n",
      "---  ------                         --------------  ----- \n",
      " 0   order_id                       99441 non-null  object\n",
      " 1   customer_id                    99441 non-null  object\n",
      " 2   order_status                   99441 non-null  object\n",
      " 3   order_purchase_timestamp       99441 non-null  object\n",
      " 4   order_estimated_delivery_date  99441 non-null  object\n",
      "dtypes: object(5)\n",
      "memory usage: 3.8+ MB\n"
     ]
    }
   ],
   "source": [
    "df_pedidos.info()"
   ]
  },
  {
   "attachments": {},
   "cell_type": "markdown",
   "metadata": {},
   "source": [
    "### Análises"
   ]
  },
  {
   "attachments": {},
   "cell_type": "markdown",
   "metadata": {},
   "source": [
    "Respondendo as perguntas feitas inicialmente."
   ]
  },
  {
   "cell_type": "code",
   "execution_count": 54,
   "metadata": {},
   "outputs": [
    {
     "data": {
      "text/plain": [
       "customer_state\n",
       "SP    41746\n",
       "RJ    12852\n",
       "MG    11635\n",
       "RS     5466\n",
       "PR     5045\n",
       "SC     3637\n",
       "BA     3380\n",
       "DF     2140\n",
       "ES     2033\n",
       "GO     2020\n",
       "PE     1652\n",
       "CE     1336\n",
       "PA      975\n",
       "MT      907\n",
       "MA      747\n",
       "MS      715\n",
       "PB      536\n",
       "PI      495\n",
       "RN      485\n",
       "AL      413\n",
       "SE      350\n",
       "TO      280\n",
       "RO      253\n",
       "AM      148\n",
       "AC       81\n",
       "AP       68\n",
       "RR       46\n",
       "Name: count, dtype: int64"
      ]
     },
     "execution_count": 54,
     "metadata": {},
     "output_type": "execute_result"
    }
   ],
   "source": [
    "#Quais os estados mais comuns entre os clientes?\n",
    "estados_comuns = df_clientes['customer_state'].value_counts()\n",
    "estados_comuns\n",
    "#r= o estado mais comum é São Paulo, seguido por Rio de Janeiro."
   ]
  },
  {
   "cell_type": "code",
   "execution_count": 65,
   "metadata": {},
   "outputs": [
    {
     "name": "stdout",
     "output_type": "stream",
     "text": [
      "credit_card 76795\n"
     ]
    }
   ],
   "source": [
    "# - Qual o método de pagamento mais utilizado? \n",
    "contagem_metodos_pagamento = df_pagamento['payment_type'].value_counts()\n",
    "\n",
    "metodo_mais_utilizado = contagem_metodos_pagamento.idxmax()\n",
    "quantidade_utilizada = contagem_metodos_pagamento.max()\n",
    "\n",
    "print(metodo_mais_utilizado, quantidade_utilizada)\n",
    "#r= o mais utilizado foi o credit_card, e foi utilizado 76.795"
   ]
  },
  {
   "cell_type": "code",
   "execution_count": 70,
   "metadata": {},
   "outputs": [
    {
     "data": {
      "text/plain": [
       "154.1"
      ]
     },
     "execution_count": 70,
     "metadata": {},
     "output_type": "execute_result"
    }
   ],
   "source": [
    "# - Qual o valor médio das transações?\n",
    "valor_medio_transacoes = df_pagamento['payment_value'].mean()\n",
    "\n",
    "valor_medio_transacoes.round(2)\n",
    "#r= o valor médio é de R$154,10"
   ]
  },
  {
   "cell_type": "code",
   "execution_count": 73,
   "metadata": {},
   "outputs": [
    {
     "data": {
      "text/plain": [
       "4.09"
      ]
     },
     "execution_count": 73,
     "metadata": {},
     "output_type": "execute_result"
    }
   ],
   "source": [
    "#- Qual é a pontuação média das avaliações?\n",
    "pontuacao_media = df_avaliacoes['review_score'].mean()\n",
    "pontuacao_media.round(2)\n",
    "#r= a média é 4.09"
   ]
  },
  {
   "cell_type": "code",
   "execution_count": 77,
   "metadata": {},
   "outputs": [
    {
     "data": {
      "text/plain": [
       "Timedelta('3 days 03:34:33.029700475')"
      ]
     },
     "execution_count": 77,
     "metadata": {},
     "output_type": "execute_result"
    }
   ],
   "source": [
    "#- Qual é a média de tempo que os clientes levam para responder às pesquisas de satisfação?\n",
    "\n",
    "df_avaliacoes['review_creation_date'] = pd.to_datetime(df_avaliacoes['review_creation_date'])\n",
    "df_avaliacoes['review_answer_timestamp'] = pd.to_datetime(df_avaliacoes['review_answer_timestamp'])\n",
    "\n",
    "tempo_resposta = df_avaliacoes['review_answer_timestamp'] - df_avaliacoes['review_creation_date']\n",
    "\n",
    "media_tempo_resposta = tempo_resposta.mean()\n",
    "\n",
    "media_tempo_resposta\n",
    "#r= O tempo médio é de 3 dias."
   ]
  },
  {
   "attachments": {},
   "cell_type": "markdown",
   "metadata": {},
   "source": [
    "### Visualização"
   ]
  },
  {
   "attachments": {},
   "cell_type": "markdown",
   "metadata": {},
   "source": [
    "- Como é a distribuição do número de parcelas escolhidas pelos clientes? \n",
    "- Há alguma relação entre o método de pagamento e o valor das transações? \n",
    "- Existe alguma correlação entre a pontuação da avaliação e o tempo de resposta do cliente?\n",
    "- Qual é a distribuição dos status dos pedidos?\n",
    "- Como é a distribuição temporal dos pedidos (compra, aprovação, entrega, etc.)?\n",
    "- Existe uma diferença significativa entre as datas de entrega estimada e as datas reais de entrega?"
   ]
  },
  {
   "cell_type": "code",
   "execution_count": 90,
   "metadata": {},
   "outputs": [
    {
     "data": {
      "image/png": "[encoded data removed]",
      "text/plain": [
       "<Figure size 1200x800 with 1 Axes>"
      ]
     },
     "metadata": {},
     "output_type": "display_data"
    }
   ],
   "source": [
    "# Há alguma relação entre o método de pagamento e o valor das transações?\n",
    "plt.figure(figsize=(12, 8))\n",
    "sns.barplot(x='payment_type', y='payment_value', data=df_pagamento)\n",
    "plt.xlabel('Método de Pagamento')\n",
    "plt.ylabel('Média do Valor da Transação')\n",
    "plt.title('Relação entre o Método de Pagamento e o Valor das Transações')\n",
    "plt.show()\n",
    "#r= Apesar da diferença não ser muita, dá para notar que quando o valor é mais alto a tendência é usar o crédito. "
   ]
  },
  {
   "cell_type": "code",
   "execution_count": 96,
   "metadata": {},
   "outputs": [
    {
     "data": {
      "image/png": "[encoded data removed]",
      "text/plain": [
       "<Figure size 1200x800 with 1 Axes>"
      ]
     },
     "metadata": {},
     "output_type": "display_data"
    }
   ],
   "source": [
    "#Existe alguma correlação entre a pontuação da avaliação e o tempo de resposta do cliente?\n",
    "df_avaliacoes['review_creation_date'] = pd.to_datetime(df_avaliacoes['review_creation_date'])\n",
    "df_avaliacoes['review_answer_timestamp'] = pd.to_datetime(df_avaliacoes['review_answer_timestamp'])\n",
    "\n",
    "df_avaliacoes['tempo_resposta'] = (df_avaliacoes['review_answer_timestamp'] - df_avaliacoes['review_creation_date']).dt.days\n",
    "\n",
    "intervalos_tempo_resposta = pd.cut(df_avaliacoes['tempo_resposta'], bins=[-1, 1, 3, 7, 30, 365], labels=['<1 dia', '1-3 dias', '4-7 dias', '8-30 dias', '>30 dias'])\n",
    "\n",
    "df_avaliacoes['intervalo_tempo_resposta'] = intervalos_tempo_resposta\n",
    "\n",
    "plt.figure(figsize=(12, 8))\n",
    "sns.barplot(x='intervalo_tempo_resposta', y='review_score', data=df_avaliacoes)\n",
    "plt.xlabel('Intervalo de Tempo de Resposta')\n",
    "plt.ylabel('Média da Pontuação da Avaliação')\n",
    "plt.title('Média da Pontuação da Avaliação por Intervalo de Tempo de Resposta')\n",
    "plt.show()\n",
    "\n",
    "#r= não, os gráficos estão bem equilibrados. "
   ]
  },
  {
   "cell_type": "code",
   "execution_count": 113,
   "metadata": {},
   "outputs": [
    {
     "data": {
      "image/png": "[encoded data removed]",
      "text/plain": [
       "<Figure size 1200x800 with 1 Axes>"
      ]
     },
     "metadata": {},
     "output_type": "display_data"
    }
   ],
   "source": [
    "#Qual é a distribuição dos status dos pedidos?\n",
    "distribuicao_status = df_pedidos['order_status'].value_counts()\n",
    "\n",
    "plt.figure(figsize=(12, 8))\n",
    "ax = df_pedidos['order_status'].value_counts().plot(kind='bar', stacked=True, color='blue')\n",
    "plt.xlabel('Status do Pedido')\n",
    "plt.ylabel('Quantidade')\n",
    "plt.title('Distribuição dos Status dos Pedidos')\n",
    "\n",
    "for p in ax.patches:\n",
    "    width, height = p.get_width(), p.get_height()\n",
    "    x, y = p.get_xy() \n",
    "    ax.annotate(f'{height}', (x + width/2, y + height), ha='center')\n",
    "\n",
    "plt.show()"
   ]
  },
  {
   "cell_type": "code",
   "execution_count": null,
   "metadata": {},
   "outputs": [],
   "source": []
  }
 ],
 "metadata": {
  "kernelspec": {
   "display_name": "Python 3",
   "language": "python",
   "name": "python3"
  },
  "language_info": {
   "codemirror_mode": {
    "name": "ipython",
    "version": 3
   },
   "file_extension": ".py",
   "mimetype": "text/x-python",
   "name": "python",
   "nbconvert_exporter": "python",
   "pygments_lexer": "ipython3",
   "version": "3.11.4"
  },
  "orig_nbformat": 4
 },
 "nbformat": 4,
 "nbformat_minor": 2
}
