{
 "cells": [
  {
   "cell_type": "code",
   "execution_count": null,
   "metadata": {},
   "outputs": [],
   "source": [
    "import pandas as pd\n",
    "import matplotlib.pyplot as plt\n",
    "import seaborn as sns"
   ]
  },
  {
   "cell_type": "markdown",
   "metadata": {},
   "source": [
    "## Coleta de dados\n",
    "\n",
    "A base de dados tem 3 tabelas diferentes:\n",
    "- pedidos (olist_orders_dataset)\n",
    "- detalhes de pagamento dos pedidos (olist_order_payments_dataset)\n",
    "- detalhes do consumidor que fez os pedidos (olist_customers_dataset)\n"
   ]
  },
  {
   "cell_type": "code",
   "execution_count": null,
   "metadata": {},
   "outputs": [],
   "source": [
    "df_customer = pd.read_csv('dataset_casa/olist_customers_dataset.csv')\n",
    "df_customer"
   ]
  },
  {
   "cell_type": "code",
   "execution_count": null,
   "metadata": {},
   "outputs": [],
   "source": [
    "df_order = pd.read_csv('dataset_casa/olist_orders_dataset.csv')\n",
    "df_order"
   ]
  },
  {
   "cell_type": "code",
   "execution_count": null,
   "metadata": {},
   "outputs": [],
   "source": [
    "df_payment = pd.read_csv('dataset_casa/olist_order_payments_dataset.csv')\n",
    "df_payment"
   ]
  },
  {
   "cell_type": "markdown",
   "metadata": {},
   "source": [
    "## Objetivo da análise\n",
    "\n",
    "- Quais os tipos de pagamentos utilizados pelos clientes?\n",
    "- Qual o valor gasto em cada modalidade de pagamento?\n",
    "- Qual estado mais pagou em boletos?\n",
    "- Qual estado mais pagou em cartão de crédito?"
   ]
  },
  {
   "cell_type": "code",
   "execution_count": null,
   "metadata": {},
   "outputs": [],
   "source": [
    "#Quais dados temos na tabela cliente:\n",
    "df_customer.info()"
   ]
  },
  {
   "cell_type": "code",
   "execution_count": null,
   "metadata": {},
   "outputs": [],
   "source": [
    "#Quais dados temos na tabela pedido:\n",
    "df_order.info()"
   ]
  },
  {
   "cell_type": "code",
   "execution_count": null,
   "metadata": {},
   "outputs": [],
   "source": [
    "#Quais dados temos na tabela pagamento:\n",
    "df_payment.info()"
   ]
  },
  {
   "cell_type": "code",
   "execution_count": null,
   "metadata": {},
   "outputs": [],
   "source": [
    "#Excluindo as colunas de id único do cliente e código postal que não será utilizada:\n",
    "columns_drop_customer = ['customer_unique_id','customer_zip_code_prefix']\n",
    "df_customer = df_customer.drop(columns_drop_customer, axis=1)\n",
    "df_customer"
   ]
  },
  {
   "cell_type": "code",
   "execution_count": null,
   "metadata": {},
   "outputs": [],
   "source": [
    "#Excluindo as colunas de aprovação de pedido, pedido entregue na transportadora, data de entrega do pedido, data estimada de entrega do pedido\n",
    "columns_drop = ['order_approved_at', 'order_delivered_carrier_date', 'order_delivered_customer_date' ,'order_estimated_delivery_date']\n",
    "df_order = df_order.drop(columns_drop, axis=1)\n",
    "df_order"
   ]
  },
  {
   "cell_type": "code",
   "execution_count": null,
   "metadata": {},
   "outputs": [],
   "source": [
    "#Excluindo as colunas de pagamento subsequente, pagamento parcelado\n",
    "columns_drop = ['payment_sequential', 'payment_installments']\n",
    "df_payment = df_payment.drop(columns_drop, axis=1)\n",
    "df_payment"
   ]
  },
  {
   "cell_type": "code",
   "execution_count": null,
   "metadata": {},
   "outputs": [],
   "source": [
    "#Filtrando para apenas pedidos entregues\n",
    "df_order = df_order.loc[df_order['order_status'] == 'delivered']\n",
    "df_order"
   ]
  },
  {
   "cell_type": "code",
   "execution_count": null,
   "metadata": {},
   "outputs": [],
   "source": [
    "#Resetando o index por conta da limpeza nos dados\n",
    "df_order = df_order.reset_index(drop=True)\n",
    "df_order"
   ]
  },
  {
   "cell_type": "code",
   "execution_count": null,
   "metadata": {},
   "outputs": [],
   "source": [
    "#Transformando a coluna de data que esta em string para data e criando um nova coluna com mês\n",
    "df_order['order_purchase_timestamp'] = pd.to_datetime(df_order['order_purchase_timestamp'])\n",
    "df_order['month'] = df_order['order_purchase_timestamp'].dt.strftime('%Y-%b')\n",
    "df_order"
   ]
  },
  {
   "cell_type": "markdown",
   "metadata": {},
   "source": [
    "## Unindo o dataset\n",
    "Para a análise proposta, irei utilizar as colunas de 'customer_id' e 'order_id'"
   ]
  },
  {
   "cell_type": "code",
   "execution_count": null,
   "metadata": {},
   "outputs": [],
   "source": [
    "df_pay_order = pd.merge(df_payment, df_order, on='order_id')\n",
    "df_pay_order"
   ]
  },
  {
   "cell_type": "code",
   "execution_count": null,
   "metadata": {},
   "outputs": [],
   "source": [
    "df_final = pd.merge(df_pay_order, df_customer, on='customer_id')\n",
    "df_final"
   ]
  },
  {
   "cell_type": "code",
   "execution_count": null,
   "metadata": {},
   "outputs": [],
   "source": [
    "df_final.info()"
   ]
  },
  {
   "cell_type": "code",
   "execution_count": null,
   "metadata": {},
   "outputs": [],
   "source": [
    "#Exportando a base final unificada\n",
    "df_final.to_csv('base_unificada_casa.csv', index=False)"
   ]
  },
  {
   "cell_type": "markdown",
   "metadata": {},
   "source": [
    "## Analisando os dados\n",
    "\n",
    "### - Quais os tipos de pagamentos utilizados pelos clientes?\n",
    "### - Qual o valor gasto em cada modalidade de pagamento?\n",
    "### - Qual estado mais pagou em boletos?\n",
    "### - Qual estado mais pagou em cartão de crédito?\n",
    "### - Qual mês mais teve compras no cartão de débito?"
   ]
  },
  {
   "cell_type": "code",
   "execution_count": null,
   "metadata": {},
   "outputs": [],
   "source": [
    "df_final['payment_type'].value_counts()"
   ]
  },
  {
   "cell_type": "markdown",
   "metadata": {},
   "source": [
    "Podemos ver acima que temos 4 tipos de pagamentos utilizados pelos clientes: cartão de crédito, boleto, voucher e cartão de débito"
   ]
  },
  {
   "cell_type": "code",
   "execution_count": null,
   "metadata": {},
   "outputs": [],
   "source": [
    "df_final.groupby(['payment_type']).agg({'payment_value': 'sum'}).sort_values('payment_value', ascending=False).T"
   ]
  },
  {
   "cell_type": "code",
   "execution_count": null,
   "metadata": {},
   "outputs": [],
   "source": [
    "count_type = df_final['payment_type'].value_counts()\n",
    "count_type.plot(kind='bar')\n",
    "plt.title('Valor gasto por método de pagamento')\n",
    "plt.xlabel('Método de pagamento')\n",
    "plt.ylabel('Valor')"
   ]
  },
  {
   "cell_type": "markdown",
   "metadata": {},
   "source": [
    "### Acima vemos não só os valores gastos em cada modalidade de pagamento como o maior valor pago foi no cartão de crédito"
   ]
  },
  {
   "cell_type": "code",
   "execution_count": null,
   "metadata": {},
   "outputs": [],
   "source": [
    "plt.figure(figsize=(10, 5))\n",
    "\n",
    "sns.countplot(data = df_final,\n",
    "              x = 'customer_state',\n",
    "              hue = 'payment_type')\n",
    "\n",
    "plt.title('Tipos de pagamento por estado')\n",
    "plt.xlabel('Estado')\n",
    "plt.ylabel('Valor')\n",
    "plt.legend(title = 'Método de pagamento')\n",
    "\n",
    "plt.show()"
   ]
  },
  {
   "cell_type": "code",
   "execution_count": null,
   "metadata": {},
   "outputs": [],
   "source": [
    "#SP foi o estado que mais fez compras\n",
    "df_final.groupby(['customer_state']).agg({'payment_value': 'sum'}).sort_values('payment_value', ascending=False).head(1)"
   ]
  },
  {
   "cell_type": "code",
   "execution_count": null,
   "metadata": {},
   "outputs": [],
   "source": [
    "#Qual mês mais teve compra?\n",
    "df_compras = df_final.groupby('month').agg({'order_id': 'nunique'})\n",
    "df_compras.sort_values(by='order_id', ascending=False).head(3)"
   ]
  },
  {
   "cell_type": "code",
   "execution_count": null,
   "metadata": {},
   "outputs": [],
   "source": [
    "#Qual mês mais teve compras no cartão de débito?\n",
    "df_debito = df_final.groupby(['payment_type', 'month']).agg({'month': 'size'}).reset_index().sort_values('size', ascending=False)\n",
    "df_debito.loc[df_final['payment_type'] == 'debit_card']"
   ]
  },
  {
   "cell_type": "code",
   "execution_count": null,
   "metadata": {},
   "outputs": [],
   "source": [
    "plt.figure(figsize=(12, 6))\n",
    "\n",
    "sns.countplot(data = df_compras,\n",
    "              x = 'month',\n",
    "              hue = 'metodo_pagamento')\n",
    "\n",
    "plt.title('Mês que mais teve compras no cartão de débito')\n",
    "plt.xlabel('Mês')\n",
    "plt.ylabel('Valor')\n",
    "\n",
    "plt.xticks(rotation=330)\n",
    "\n",
    "\n",
    "\n",
    "plt.show()"
   ]
  }
 ],
 "metadata": {
  "kernelspec": {
   "display_name": "Python 3",
   "language": "python",
   "name": "python3"
  },
  "language_info": {
   "codemirror_mode": {
    "name": "ipython",
    "version": 3
   },
   "file_extension": ".py",
   "mimetype": "text/x-python",
   "name": "python",
   "nbconvert_exporter": "python",
   "pygments_lexer": "ipython3",
   "version": "3.11.4"
  }
 },
 "nbformat": 4,
 "nbformat_minor": 2
}
