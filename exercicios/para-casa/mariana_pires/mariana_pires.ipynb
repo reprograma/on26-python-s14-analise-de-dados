{
 "cells": [
  {
   "cell_type": "markdown",
   "metadata": {},
   "source": [
    "<img src=\"../assets/Semana 14 - Reprograma Mariana Pires.png\" />"
   ]
  },
  {
   "cell_type": "markdown",
   "metadata": {},
   "source": [
    "<style>\n",
    "ul {\n",
    "  list-style: none;\n",
    "}\n",
    "ul li:before {\n",
    "  content: '(✓)';\n",
    "}\n",
    "</style>\n",
    "<h2 style='font-family: Lucida Console; text-align:center'>Descrição:</h2>\n",
    "\n",
    "<p style=\"text-align: justify\"> Nesta semana trabalharemos com a formulação de insights e visualização dos mesmos utilizando de bases de dados da empresa Olist fornecidas pela professora Deborah. Resolvi criar a minha base do zero. Mais informações abaixo. </p>\n",
    "\n",
    "<h2 style='font-family: Lucida Console; text-align:center'><b>Checklist:</b></h2>\n",
    "<ul style=\"text-align: justify\"><li> Formular o mínimo de 4 perguntas para responder com suas análises;</li>\n",
    "<li> Utilizar pelo menos 3 bases de dados da Olist (caso você deseje criar sua base do zero);</li>\n",
    "<li> Criar pelo menos 3 gráficos;</li>\n",
    "<li> Exporte sua base final;</li>\n",
    "\n",
    "Submeta uma pasta que contenha:\n",
    "<div style=\"margin: 0.5em\"><li> O arquivo seu_nome.ipynb com sua análise exploratória;</li>\n",
    "<li> A base final criada por você no formato .csv;</li>\n",
    "<li> As bases da olist em .csv que você utilizou na criação da sua análise exploratória;</li></div>\n",
    "\n"
   ]
  },
  {
   "cell_type": "code",
   "execution_count": 1,
   "metadata": {},
   "outputs": [],
   "source": [
    "#Importando a biblioteca que utilizaremos no início da atividade\n",
    "import pandas as pd"
   ]
  },
  {
   "cell_type": "code",
   "execution_count": 179,
   "metadata": {},
   "outputs": [],
   "source": [
    "#Criando os dataframes utilizados na atividade\n",
    "df_vendedores = pd.read_csv('../../../material/datasets_olist/olist_sellers_dataset.csv')\n",
    "df_clientes = pd.read_csv('../../../material/datasets_olist/olist_customers_dataset.csv')\n",
    "df_produtos = pd.read_csv('../../../material/datasets_olist/olist_products_dataset.csv')"
   ]
  },
  {
   "cell_type": "markdown",
   "metadata": {},
   "source": [
    "<h2 style='font-family: Lucida Console; text-align:center;'>Limpeza dos dados:</h2>"
   ]
  },
  {
   "cell_type": "markdown",
   "metadata": {},
   "source": [
    "<h4 style='font-family: Lucida Console; text-align:justify;'><ul><li>Primeiro dataframe:</li></ul></h4>\n",
    "<p style=\"text-align: justify\">O primeiro dataframe que iremos limpar será o voltado para localização de vendedores.</p>\n",
    "<p style=\"text-align: justify\">Iremos utilizar as seguintes colunas: </p>\n",
    "<ul>\n",
    "<li><b>seller_city</b>: a cidade de onde é o vendedor.</li>\n",
    "<li><b>seller_state</b>: a sigla do estado de onde é o vendedor.</li>\n",
    "</ul>\n",
    "<p style=\"text-align: justify\">E removeremos: </p>\n",
    "<ul>\n",
    "<li><b>seller_id</b>: coluna identificadora do vendedor.</li>\n",
    "<li><b>seller_zip_code_prefix</b>: os 5 primeiros dígitos que correspondem ao CEP do vendedor.</li>\n",
    "</ul>"
   ]
  },
  {
   "cell_type": "code",
   "execution_count": 180,
   "metadata": {},
   "outputs": [
    {
     "data": {
      "text/html": [
       "<div>\n",
       "<style scoped>\n",
       "    .dataframe tbody tr th:only-of-type {\n",
       "        vertical-align: middle;\n",
       "    }\n",
       "\n",
       "    .dataframe tbody tr th {\n",
       "        vertical-align: top;\n",
       "    }\n",
       "\n",
       "    .dataframe thead th {\n",
       "        text-align: right;\n",
       "    }\n",
       "</style>\n",
       "<table border=\"1\" class=\"dataframe\">\n",
       "  <thead>\n",
       "    <tr style=\"text-align: right;\">\n",
       "      <th></th>\n",
       "      <th>seller_id</th>\n",
       "      <th>seller_zip_code_prefix</th>\n",
       "      <th>seller_city</th>\n",
       "      <th>seller_state</th>\n",
       "    </tr>\n",
       "  </thead>\n",
       "  <tbody>\n",
       "    <tr>\n",
       "      <th>0</th>\n",
       "      <td>3442f8959a84dea7ee197c632cb2df15</td>\n",
       "      <td>13023</td>\n",
       "      <td>campinas</td>\n",
       "      <td>SP</td>\n",
       "    </tr>\n",
       "    <tr>\n",
       "      <th>1</th>\n",
       "      <td>d1b65fc7debc3361ea86b5f14c68d2e2</td>\n",
       "      <td>13844</td>\n",
       "      <td>mogi guacu</td>\n",
       "      <td>SP</td>\n",
       "    </tr>\n",
       "    <tr>\n",
       "      <th>2</th>\n",
       "      <td>ce3ad9de960102d0677a81f5d0bb7b2d</td>\n",
       "      <td>20031</td>\n",
       "      <td>rio de janeiro</td>\n",
       "      <td>RJ</td>\n",
       "    </tr>\n",
       "    <tr>\n",
       "      <th>3</th>\n",
       "      <td>c0f3eea2e14555b6faeea3dd58c1b1c3</td>\n",
       "      <td>4195</td>\n",
       "      <td>sao paulo</td>\n",
       "      <td>SP</td>\n",
       "    </tr>\n",
       "    <tr>\n",
       "      <th>4</th>\n",
       "      <td>51a04a8a6bdcb23deccc82b0b80742cf</td>\n",
       "      <td>12914</td>\n",
       "      <td>braganca paulista</td>\n",
       "      <td>SP</td>\n",
       "    </tr>\n",
       "    <tr>\n",
       "      <th>...</th>\n",
       "      <td>...</td>\n",
       "      <td>...</td>\n",
       "      <td>...</td>\n",
       "      <td>...</td>\n",
       "    </tr>\n",
       "    <tr>\n",
       "      <th>3090</th>\n",
       "      <td>98dddbc4601dd4443ca174359b237166</td>\n",
       "      <td>87111</td>\n",
       "      <td>sarandi</td>\n",
       "      <td>PR</td>\n",
       "    </tr>\n",
       "    <tr>\n",
       "      <th>3091</th>\n",
       "      <td>f8201cab383e484733266d1906e2fdfa</td>\n",
       "      <td>88137</td>\n",
       "      <td>palhoca</td>\n",
       "      <td>SC</td>\n",
       "    </tr>\n",
       "    <tr>\n",
       "      <th>3092</th>\n",
       "      <td>74871d19219c7d518d0090283e03c137</td>\n",
       "      <td>4650</td>\n",
       "      <td>sao paulo</td>\n",
       "      <td>SP</td>\n",
       "    </tr>\n",
       "    <tr>\n",
       "      <th>3093</th>\n",
       "      <td>e603cf3fec55f8697c9059638d6c8eb5</td>\n",
       "      <td>96080</td>\n",
       "      <td>pelotas</td>\n",
       "      <td>RS</td>\n",
       "    </tr>\n",
       "    <tr>\n",
       "      <th>3094</th>\n",
       "      <td>9e25199f6ef7e7c347120ff175652c3b</td>\n",
       "      <td>12051</td>\n",
       "      <td>taubate</td>\n",
       "      <td>SP</td>\n",
       "    </tr>\n",
       "  </tbody>\n",
       "</table>\n",
       "<p>3095 rows × 4 columns</p>\n",
       "</div>"
      ],
      "text/plain": [
       "                             seller_id  seller_zip_code_prefix  \\\n",
       "0     3442f8959a84dea7ee197c632cb2df15                   13023   \n",
       "1     d1b65fc7debc3361ea86b5f14c68d2e2                   13844   \n",
       "2     ce3ad9de960102d0677a81f5d0bb7b2d                   20031   \n",
       "3     c0f3eea2e14555b6faeea3dd58c1b1c3                    4195   \n",
       "4     51a04a8a6bdcb23deccc82b0b80742cf                   12914   \n",
       "...                                ...                     ...   \n",
       "3090  98dddbc4601dd4443ca174359b237166                   87111   \n",
       "3091  f8201cab383e484733266d1906e2fdfa                   88137   \n",
       "3092  74871d19219c7d518d0090283e03c137                    4650   \n",
       "3093  e603cf3fec55f8697c9059638d6c8eb5                   96080   \n",
       "3094  9e25199f6ef7e7c347120ff175652c3b                   12051   \n",
       "\n",
       "            seller_city seller_state  \n",
       "0              campinas           SP  \n",
       "1            mogi guacu           SP  \n",
       "2        rio de janeiro           RJ  \n",
       "3             sao paulo           SP  \n",
       "4     braganca paulista           SP  \n",
       "...                 ...          ...  \n",
       "3090            sarandi           PR  \n",
       "3091            palhoca           SC  \n",
       "3092          sao paulo           SP  \n",
       "3093            pelotas           RS  \n",
       "3094            taubate           SP  \n",
       "\n",
       "[3095 rows x 4 columns]"
      ]
     },
     "execution_count": 180,
     "metadata": {},
     "output_type": "execute_result"
    }
   ],
   "source": [
    "#Checando aqui o formato original da tabela\n",
    "df_vendedores"
   ]
  },
  {
   "cell_type": "code",
   "execution_count": 181,
   "metadata": {},
   "outputs": [],
   "source": [
    "#Como não utilizaremos as colunas seller_zip_code e seller_id, aqui começaremos a limpar o dataframe\n",
    "df_vendedores = df_vendedores.drop(columns=['seller_zip_code_prefix', 'seller_id'])"
   ]
  },
  {
   "cell_type": "code",
   "execution_count": 182,
   "metadata": {},
   "outputs": [
    {
     "name": "stdout",
     "output_type": "stream",
     "text": [
      "<class 'pandas.core.frame.DataFrame'>\n",
      "RangeIndex: 3095 entries, 0 to 3094\n",
      "Data columns (total 2 columns):\n",
      " #   Column        Non-Null Count  Dtype \n",
      "---  ------        --------------  ----- \n",
      " 0   seller_city   3095 non-null   object\n",
      " 1   seller_state  3095 non-null   object\n",
      "dtypes: object(2)\n",
      "memory usage: 48.5+ KB\n"
     ]
    }
   ],
   "source": [
    "#Exibindo a coluna limpa\n",
    "df_vendedores.info()"
   ]
  },
  {
   "cell_type": "markdown",
   "metadata": {},
   "source": [
    "<ul><h4 style='font-family: Lucida Console; text-align:justify; margin-left: 0 !important;'><li>Segundo dataframe:</li></h4></ul>\n",
    "<p style=\"text-align: justify\">O segundo dataframe que iremos limpar será o voltado para localização de clientes.</p>\n",
    "<p style=\"text-align: justify\">Iremos utilizar as seguintes colunas: </p>\n",
    "<ul>\n",
    "<li><b>customer_city</b>: a cidade de onde é o vendedor.</li>\n",
    "<li><b>customer_state</b>: a sigla do estado de onde é o vendedor.</li>\n",
    "</ul>\n",
    "<p style=\"text-align: justify\">E removeremos: </p>\n",
    "<ul>\n",
    "<li><b>customer_unique_id</b>: uma ID única para cada usuário.</li>\n",
    "<li><b>customer_id</b>: removeremos esta coluna, pois ela representa um valor temporário gerado todas as vezes que um consumidor faz um pedido.</li>\n",
    "<li><b>customer_zip_code_prefix\t</b>: os 5 primeiros dígitos do CEP do comprador.</li>\n",
    "</ul>"
   ]
  },
  {
   "cell_type": "code",
   "execution_count": 186,
   "metadata": {},
   "outputs": [],
   "source": [
    "#Limpando o que não iremos utilizar no dataframe\n",
    "df_clientes = df_clientes.drop(columns=['customer_id','customer_zip_code_prefix', 'customer_unique_id'])"
   ]
  },
  {
   "cell_type": "code",
   "execution_count": 187,
   "metadata": {},
   "outputs": [
    {
     "name": "stdout",
     "output_type": "stream",
     "text": [
      "<class 'pandas.core.frame.DataFrame'>\n",
      "RangeIndex: 99441 entries, 0 to 99440\n",
      "Data columns (total 2 columns):\n",
      " #   Column          Non-Null Count  Dtype \n",
      "---  ------          --------------  ----- \n",
      " 0   customer_city   99441 non-null  object\n",
      " 1   customer_state  99441 non-null  object\n",
      "dtypes: object(2)\n",
      "memory usage: 1.5+ MB\n"
     ]
    }
   ],
   "source": [
    "df_clientes.info()"
   ]
  },
  {
   "cell_type": "markdown",
   "metadata": {},
   "source": [
    "<ul><h4 style='font-family: Lucida Console; text-align:justify; margin-left: 0 !important;'><li>Terceiro dataframe:</li></h4></ul>\n",
    "<p style=\"text-align: justify\">O terceiro dataframe que iremos limpar será o voltado para os produtos vendidos.</p>\n",
    "<p style=\"text-align: justify\">Iremos utilizar as seguintes colunas: </p>\n",
    "<ul>\n",
    "<li><b>product_category_name</b>: categoria em que o produto se enquadra.</li>\n",
    "<li><b>product_weight_g</b>: peso do produto em gramas.</li>\n",
    "<li><b>product_height_cm</b>: altura do produto em cm.</li>\n",
    "<li><b>product_width_cm</b>: largura do produto em cm.</li>\n",
    "\n",
    "</ul>\n",
    "<p style=\"text-align: justify\">E removeremos: </p>\n",
    "<ul>\n",
    "<li><b>product_id</b>: uma ID única para cada produto.</li>\n",
    "<li><b>product_name_lenght</b>: quantidade de caracteres do nome do produto.</li>\n",
    "<li><b>product_description_lenght\t</b>: quantidade de caracteres de descrição do produto.</li>\n",
    "<li><b>product_photos_qty\t</b>: quantidade de fotos atrelada ao produto.</li>\n",
    "<li><b>product_length_cm\t</b>: comprimento do produto em cm.</li>\n",
    "</ul>"
   ]
  },
  {
   "cell_type": "code",
   "execution_count": 188,
   "metadata": {},
   "outputs": [
    {
     "data": {
      "text/html": [
       "<div>\n",
       "<style scoped>\n",
       "    .dataframe tbody tr th:only-of-type {\n",
       "        vertical-align: middle;\n",
       "    }\n",
       "\n",
       "    .dataframe tbody tr th {\n",
       "        vertical-align: top;\n",
       "    }\n",
       "\n",
       "    .dataframe thead th {\n",
       "        text-align: right;\n",
       "    }\n",
       "</style>\n",
       "<table border=\"1\" class=\"dataframe\">\n",
       "  <thead>\n",
       "    <tr style=\"text-align: right;\">\n",
       "      <th></th>\n",
       "      <th>product_id</th>\n",
       "      <th>product_category_name</th>\n",
       "      <th>product_name_lenght</th>\n",
       "      <th>product_description_lenght</th>\n",
       "      <th>product_photos_qty</th>\n",
       "      <th>product_weight_g</th>\n",
       "      <th>product_length_cm</th>\n",
       "      <th>product_height_cm</th>\n",
       "      <th>product_width_cm</th>\n",
       "    </tr>\n",
       "  </thead>\n",
       "  <tbody>\n",
       "    <tr>\n",
       "      <th>0</th>\n",
       "      <td>1e9e8ef04dbcff4541ed26657ea517e5</td>\n",
       "      <td>perfumaria</td>\n",
       "      <td>40.0</td>\n",
       "      <td>287.0</td>\n",
       "      <td>1.0</td>\n",
       "      <td>225.0</td>\n",
       "      <td>16.0</td>\n",
       "      <td>10.0</td>\n",
       "      <td>14.0</td>\n",
       "    </tr>\n",
       "    <tr>\n",
       "      <th>1</th>\n",
       "      <td>3aa071139cb16b67ca9e5dea641aaa2f</td>\n",
       "      <td>artes</td>\n",
       "      <td>44.0</td>\n",
       "      <td>276.0</td>\n",
       "      <td>1.0</td>\n",
       "      <td>1000.0</td>\n",
       "      <td>30.0</td>\n",
       "      <td>18.0</td>\n",
       "      <td>20.0</td>\n",
       "    </tr>\n",
       "    <tr>\n",
       "      <th>2</th>\n",
       "      <td>96bd76ec8810374ed1b65e291975717f</td>\n",
       "      <td>esporte_lazer</td>\n",
       "      <td>46.0</td>\n",
       "      <td>250.0</td>\n",
       "      <td>1.0</td>\n",
       "      <td>154.0</td>\n",
       "      <td>18.0</td>\n",
       "      <td>9.0</td>\n",
       "      <td>15.0</td>\n",
       "    </tr>\n",
       "    <tr>\n",
       "      <th>3</th>\n",
       "      <td>cef67bcfe19066a932b7673e239eb23d</td>\n",
       "      <td>bebes</td>\n",
       "      <td>27.0</td>\n",
       "      <td>261.0</td>\n",
       "      <td>1.0</td>\n",
       "      <td>371.0</td>\n",
       "      <td>26.0</td>\n",
       "      <td>4.0</td>\n",
       "      <td>26.0</td>\n",
       "    </tr>\n",
       "    <tr>\n",
       "      <th>4</th>\n",
       "      <td>9dc1a7de274444849c219cff195d0b71</td>\n",
       "      <td>utilidades_domesticas</td>\n",
       "      <td>37.0</td>\n",
       "      <td>402.0</td>\n",
       "      <td>4.0</td>\n",
       "      <td>625.0</td>\n",
       "      <td>20.0</td>\n",
       "      <td>17.0</td>\n",
       "      <td>13.0</td>\n",
       "    </tr>\n",
       "    <tr>\n",
       "      <th>...</th>\n",
       "      <td>...</td>\n",
       "      <td>...</td>\n",
       "      <td>...</td>\n",
       "      <td>...</td>\n",
       "      <td>...</td>\n",
       "      <td>...</td>\n",
       "      <td>...</td>\n",
       "      <td>...</td>\n",
       "      <td>...</td>\n",
       "    </tr>\n",
       "    <tr>\n",
       "      <th>32946</th>\n",
       "      <td>a0b7d5a992ccda646f2d34e418fff5a0</td>\n",
       "      <td>moveis_decoracao</td>\n",
       "      <td>45.0</td>\n",
       "      <td>67.0</td>\n",
       "      <td>2.0</td>\n",
       "      <td>12300.0</td>\n",
       "      <td>40.0</td>\n",
       "      <td>40.0</td>\n",
       "      <td>40.0</td>\n",
       "    </tr>\n",
       "    <tr>\n",
       "      <th>32947</th>\n",
       "      <td>bf4538d88321d0fd4412a93c974510e6</td>\n",
       "      <td>construcao_ferramentas_iluminacao</td>\n",
       "      <td>41.0</td>\n",
       "      <td>971.0</td>\n",
       "      <td>1.0</td>\n",
       "      <td>1700.0</td>\n",
       "      <td>16.0</td>\n",
       "      <td>19.0</td>\n",
       "      <td>16.0</td>\n",
       "    </tr>\n",
       "    <tr>\n",
       "      <th>32948</th>\n",
       "      <td>9a7c6041fa9592d9d9ef6cfe62a71f8c</td>\n",
       "      <td>cama_mesa_banho</td>\n",
       "      <td>50.0</td>\n",
       "      <td>799.0</td>\n",
       "      <td>1.0</td>\n",
       "      <td>1400.0</td>\n",
       "      <td>27.0</td>\n",
       "      <td>7.0</td>\n",
       "      <td>27.0</td>\n",
       "    </tr>\n",
       "    <tr>\n",
       "      <th>32949</th>\n",
       "      <td>83808703fc0706a22e264b9d75f04a2e</td>\n",
       "      <td>informatica_acessorios</td>\n",
       "      <td>60.0</td>\n",
       "      <td>156.0</td>\n",
       "      <td>2.0</td>\n",
       "      <td>700.0</td>\n",
       "      <td>31.0</td>\n",
       "      <td>13.0</td>\n",
       "      <td>20.0</td>\n",
       "    </tr>\n",
       "    <tr>\n",
       "      <th>32950</th>\n",
       "      <td>106392145fca363410d287a815be6de4</td>\n",
       "      <td>cama_mesa_banho</td>\n",
       "      <td>58.0</td>\n",
       "      <td>309.0</td>\n",
       "      <td>1.0</td>\n",
       "      <td>2083.0</td>\n",
       "      <td>12.0</td>\n",
       "      <td>2.0</td>\n",
       "      <td>7.0</td>\n",
       "    </tr>\n",
       "  </tbody>\n",
       "</table>\n",
       "<p>32951 rows × 9 columns</p>\n",
       "</div>"
      ],
      "text/plain": [
       "                             product_id              product_category_name  \\\n",
       "0      1e9e8ef04dbcff4541ed26657ea517e5                         perfumaria   \n",
       "1      3aa071139cb16b67ca9e5dea641aaa2f                              artes   \n",
       "2      96bd76ec8810374ed1b65e291975717f                      esporte_lazer   \n",
       "3      cef67bcfe19066a932b7673e239eb23d                              bebes   \n",
       "4      9dc1a7de274444849c219cff195d0b71              utilidades_domesticas   \n",
       "...                                 ...                                ...   \n",
       "32946  a0b7d5a992ccda646f2d34e418fff5a0                   moveis_decoracao   \n",
       "32947  bf4538d88321d0fd4412a93c974510e6  construcao_ferramentas_iluminacao   \n",
       "32948  9a7c6041fa9592d9d9ef6cfe62a71f8c                    cama_mesa_banho   \n",
       "32949  83808703fc0706a22e264b9d75f04a2e             informatica_acessorios   \n",
       "32950  106392145fca363410d287a815be6de4                    cama_mesa_banho   \n",
       "\n",
       "       product_name_lenght  product_description_lenght  product_photos_qty  \\\n",
       "0                     40.0                       287.0                 1.0   \n",
       "1                     44.0                       276.0                 1.0   \n",
       "2                     46.0                       250.0                 1.0   \n",
       "3                     27.0                       261.0                 1.0   \n",
       "4                     37.0                       402.0                 4.0   \n",
       "...                    ...                         ...                 ...   \n",
       "32946                 45.0                        67.0                 2.0   \n",
       "32947                 41.0                       971.0                 1.0   \n",
       "32948                 50.0                       799.0                 1.0   \n",
       "32949                 60.0                       156.0                 2.0   \n",
       "32950                 58.0                       309.0                 1.0   \n",
       "\n",
       "       product_weight_g  product_length_cm  product_height_cm  \\\n",
       "0                 225.0               16.0               10.0   \n",
       "1                1000.0               30.0               18.0   \n",
       "2                 154.0               18.0                9.0   \n",
       "3                 371.0               26.0                4.0   \n",
       "4                 625.0               20.0               17.0   \n",
       "...                 ...                ...                ...   \n",
       "32946           12300.0               40.0               40.0   \n",
       "32947            1700.0               16.0               19.0   \n",
       "32948            1400.0               27.0                7.0   \n",
       "32949             700.0               31.0               13.0   \n",
       "32950            2083.0               12.0                2.0   \n",
       "\n",
       "       product_width_cm  \n",
       "0                  14.0  \n",
       "1                  20.0  \n",
       "2                  15.0  \n",
       "3                  26.0  \n",
       "4                  13.0  \n",
       "...                 ...  \n",
       "32946              40.0  \n",
       "32947              16.0  \n",
       "32948              27.0  \n",
       "32949              20.0  \n",
       "32950               7.0  \n",
       "\n",
       "[32951 rows x 9 columns]"
      ]
     },
     "execution_count": 188,
     "metadata": {},
     "output_type": "execute_result"
    }
   ],
   "source": [
    "df_produtos"
   ]
  },
  {
   "cell_type": "code",
   "execution_count": 189,
   "metadata": {},
   "outputs": [],
   "source": [
    "#Mais uma vez limpando o dataframe\n",
    "df_produtos = df_produtos.drop(columns=['product_name_lenght','product_description_lenght','product_photos_qty','product_length_cm', 'product_id'])"
   ]
  },
  {
   "cell_type": "code",
   "execution_count": 190,
   "metadata": {},
   "outputs": [
    {
     "name": "stdout",
     "output_type": "stream",
     "text": [
      "<class 'pandas.core.frame.DataFrame'>\n",
      "RangeIndex: 32951 entries, 0 to 32950\n",
      "Data columns (total 4 columns):\n",
      " #   Column                 Non-Null Count  Dtype  \n",
      "---  ------                 --------------  -----  \n",
      " 0   product_category_name  32341 non-null  object \n",
      " 1   product_weight_g       32949 non-null  float64\n",
      " 2   product_height_cm      32949 non-null  float64\n",
      " 3   product_width_cm       32949 non-null  float64\n",
      "dtypes: float64(3), object(1)\n",
      "memory usage: 1.0+ MB\n"
     ]
    }
   ],
   "source": [
    "df_produtos.info()"
   ]
  },
  {
   "cell_type": "markdown",
   "metadata": {},
   "source": [
    "<ul><h4 style='font-family: Lucida Console; text-align:justify; margin-left: 0 !important;'><li>Troubleshooting:</li></h4></ul>\n",
    "<p style=\"text-align: justify\">Para juntarmos as três colunas utilizando a função merge(), elas precisam ter uma coluna com um nome em comum. E, como foi visto até então, não é o caso para as colunas atuais. </p>\n",
    "<p style=\"text-align: justify\">Para resolver o problema, eu criarei uma coluna nova.</p>"
   ]
  },
  {
   "cell_type": "code",
   "execution_count": 64,
   "metadata": {},
   "outputs": [
    {
     "ename": "ValueError",
     "evalue": "The truth value of a DataFrame is ambiguous. Use a.empty, a.bool(), a.item(), a.any() or a.all().",
     "output_type": "error",
     "traceback": [
      "\u001b[1;31m---------------------------------------------------------------------------\u001b[0m",
      "\u001b[1;31mValueError\u001b[0m                                Traceback (most recent call last)",
      "\u001b[1;32m~\\AppData\\Local\\Temp\\ipykernel_22136\\4087577580.py\u001b[0m in \u001b[0;36m?\u001b[1;34m()\u001b[0m\n\u001b[0;32m      1\u001b[0m \u001b[1;31m#Como visto abaixo, não funciona sem uma coluna com um nome em comum. Eu poderia criar uma coluna nova, mas eu reservei a coluna id dos 3 dataframes para este propósito.\u001b[0m\u001b[1;33m\u001b[0m\u001b[1;33m\u001b[0m\u001b[0m\n\u001b[1;32m----> 2\u001b[1;33m \u001b[0mdf_final\u001b[0m \u001b[1;33m=\u001b[0m \u001b[0mpd\u001b[0m\u001b[1;33m.\u001b[0m\u001b[0mmerge\u001b[0m\u001b[1;33m(\u001b[0m\u001b[0mdf_clientes\u001b[0m\u001b[1;33m,\u001b[0m \u001b[0mdf_vendedores\u001b[0m\u001b[1;33m,\u001b[0m \u001b[0mdf_produtos\u001b[0m\u001b[1;33m,\u001b[0m \u001b[0mon\u001b[0m\u001b[1;33m=\u001b[0m\u001b[1;34m''\u001b[0m\u001b[1;33m)\u001b[0m\u001b[1;33m\u001b[0m\u001b[1;33m\u001b[0m\u001b[0m\n\u001b[0m",
      "\u001b[1;32m~\\AppData\\Local\\Packages\\PythonSoftwareFoundation.Python.3.11_qbz5n2kfra8p0\\LocalCache\\local-packages\\Python311\\site-packages\\pandas\\core\\reshape\\merge.py\u001b[0m in \u001b[0;36m?\u001b[1;34m(left, right, how, on, left_on, right_on, left_index, right_index, sort, suffixes, copy, indicator, validate)\u001b[0m\n\u001b[0;32m    149\u001b[0m     \u001b[0mvalidate\u001b[0m\u001b[1;33m:\u001b[0m \u001b[0mstr\u001b[0m \u001b[1;33m|\u001b[0m \u001b[1;32mNone\u001b[0m \u001b[1;33m=\u001b[0m \u001b[1;32mNone\u001b[0m\u001b[1;33m,\u001b[0m\u001b[1;33m\u001b[0m\u001b[1;33m\u001b[0m\u001b[0m\n\u001b[0;32m    150\u001b[0m ) -> DataFrame:\n\u001b[0;32m    151\u001b[0m     \u001b[0mleft_df\u001b[0m \u001b[1;33m=\u001b[0m \u001b[0m_validate_operand\u001b[0m\u001b[1;33m(\u001b[0m\u001b[0mleft\u001b[0m\u001b[1;33m)\u001b[0m\u001b[1;33m\u001b[0m\u001b[1;33m\u001b[0m\u001b[0m\n\u001b[0;32m    152\u001b[0m     \u001b[0mright_df\u001b[0m \u001b[1;33m=\u001b[0m \u001b[0m_validate_operand\u001b[0m\u001b[1;33m(\u001b[0m\u001b[0mright\u001b[0m\u001b[1;33m)\u001b[0m\u001b[1;33m\u001b[0m\u001b[1;33m\u001b[0m\u001b[0m\n\u001b[1;32m--> 153\u001b[1;33m     \u001b[1;32mif\u001b[0m \u001b[0mhow\u001b[0m \u001b[1;33m==\u001b[0m \u001b[1;34m\"cross\"\u001b[0m\u001b[1;33m:\u001b[0m\u001b[1;33m\u001b[0m\u001b[1;33m\u001b[0m\u001b[0m\n\u001b[0m\u001b[0;32m    154\u001b[0m         return _cross_merge(\n\u001b[0;32m    155\u001b[0m             \u001b[0mleft_df\u001b[0m\u001b[1;33m,\u001b[0m\u001b[1;33m\u001b[0m\u001b[1;33m\u001b[0m\u001b[0m\n\u001b[0;32m    156\u001b[0m             \u001b[0mright_df\u001b[0m\u001b[1;33m,\u001b[0m\u001b[1;33m\u001b[0m\u001b[1;33m\u001b[0m\u001b[0m\n",
      "\u001b[1;32m~\\AppData\\Local\\Packages\\PythonSoftwareFoundation.Python.3.11_qbz5n2kfra8p0\\LocalCache\\local-packages\\Python311\\site-packages\\pandas\\core\\generic.py\u001b[0m in \u001b[0;36m?\u001b[1;34m(self)\u001b[0m\n\u001b[0;32m   1517\u001b[0m     \u001b[1;33m@\u001b[0m\u001b[0mfinal\u001b[0m\u001b[1;33m\u001b[0m\u001b[1;33m\u001b[0m\u001b[0m\n\u001b[0;32m   1518\u001b[0m     \u001b[1;32mdef\u001b[0m \u001b[0m__nonzero__\u001b[0m\u001b[1;33m(\u001b[0m\u001b[0mself\u001b[0m\u001b[1;33m)\u001b[0m \u001b[1;33m->\u001b[0m \u001b[0mNoReturn\u001b[0m\u001b[1;33m:\u001b[0m\u001b[1;33m\u001b[0m\u001b[1;33m\u001b[0m\u001b[0m\n\u001b[1;32m-> 1519\u001b[1;33m         raise ValueError(\n\u001b[0m\u001b[0;32m   1520\u001b[0m             \u001b[1;34mf\"The truth value of a {type(self).__name__} is ambiguous. \"\u001b[0m\u001b[1;33m\u001b[0m\u001b[1;33m\u001b[0m\u001b[0m\n\u001b[0;32m   1521\u001b[0m             \u001b[1;34m\"Use a.empty, a.bool(), a.item(), a.any() or a.all().\"\u001b[0m\u001b[1;33m\u001b[0m\u001b[1;33m\u001b[0m\u001b[0m\n\u001b[0;32m   1522\u001b[0m         )\n",
      "\u001b[1;31mValueError\u001b[0m: The truth value of a DataFrame is ambiguous. Use a.empty, a.bool(), a.item(), a.any() or a.all()."
     ]
    }
   ],
   "source": [
    "#Como visto abaixo, não funciona sem uma coluna com um nome em comum. Eu criarei uma coluna nova\n",
    "df_final = pd.merge(df_clientes, df_vendedores, df_produtos, on='')"
   ]
  },
  {
   "cell_type": "code",
   "execution_count": 191,
   "metadata": {},
   "outputs": [],
   "source": [
    "#Criando o campo merge_id com pd.Series()\n",
    "df_clientes['merge_id'] = range(len(df_clientes))\n",
    "df_vendedores['merge_id'] = range(len(df_vendedores))\n",
    "df_produtos['merge_id'] = range(len(df_produtos))"
   ]
  },
  {
   "cell_type": "code",
   "execution_count": 200,
   "metadata": {},
   "outputs": [],
   "source": [
    "#Merging\n",
    "df_temp = df_clientes.merge(df_vendedores, on='merge_id', how='left', suffixes=('_clientes', '_vendedores'))\n",
    "df_final = df_temp.merge(df_produtos, on='merge_id', how='left', suffixes=('', '_produtos'))"
   ]
  },
  {
   "cell_type": "code",
   "execution_count": 194,
   "metadata": {},
   "outputs": [
    {
     "data": {
      "text/html": [
       "<div>\n",
       "<style scoped>\n",
       "    .dataframe tbody tr th:only-of-type {\n",
       "        vertical-align: middle;\n",
       "    }\n",
       "\n",
       "    .dataframe tbody tr th {\n",
       "        vertical-align: top;\n",
       "    }\n",
       "\n",
       "    .dataframe thead th {\n",
       "        text-align: right;\n",
       "    }\n",
       "</style>\n",
       "<table border=\"1\" class=\"dataframe\">\n",
       "  <thead>\n",
       "    <tr style=\"text-align: right;\">\n",
       "      <th></th>\n",
       "      <th>customer_city</th>\n",
       "      <th>customer_state</th>\n",
       "      <th>merge_id</th>\n",
       "      <th>seller_city</th>\n",
       "      <th>seller_state</th>\n",
       "      <th>product_category_name</th>\n",
       "      <th>product_weight_g</th>\n",
       "      <th>product_height_cm</th>\n",
       "      <th>product_width_cm</th>\n",
       "    </tr>\n",
       "  </thead>\n",
       "  <tbody>\n",
       "    <tr>\n",
       "      <th>0</th>\n",
       "      <td>franca</td>\n",
       "      <td>SP</td>\n",
       "      <td>0</td>\n",
       "      <td>campinas</td>\n",
       "      <td>SP</td>\n",
       "      <td>perfumaria</td>\n",
       "      <td>225.0</td>\n",
       "      <td>10.0</td>\n",
       "      <td>14.0</td>\n",
       "    </tr>\n",
       "    <tr>\n",
       "      <th>1</th>\n",
       "      <td>sao bernardo do campo</td>\n",
       "      <td>SP</td>\n",
       "      <td>1</td>\n",
       "      <td>mogi guacu</td>\n",
       "      <td>SP</td>\n",
       "      <td>artes</td>\n",
       "      <td>1000.0</td>\n",
       "      <td>18.0</td>\n",
       "      <td>20.0</td>\n",
       "    </tr>\n",
       "    <tr>\n",
       "      <th>2</th>\n",
       "      <td>sao paulo</td>\n",
       "      <td>SP</td>\n",
       "      <td>2</td>\n",
       "      <td>rio de janeiro</td>\n",
       "      <td>RJ</td>\n",
       "      <td>esporte_lazer</td>\n",
       "      <td>154.0</td>\n",
       "      <td>9.0</td>\n",
       "      <td>15.0</td>\n",
       "    </tr>\n",
       "    <tr>\n",
       "      <th>3</th>\n",
       "      <td>mogi das cruzes</td>\n",
       "      <td>SP</td>\n",
       "      <td>3</td>\n",
       "      <td>sao paulo</td>\n",
       "      <td>SP</td>\n",
       "      <td>bebes</td>\n",
       "      <td>371.0</td>\n",
       "      <td>4.0</td>\n",
       "      <td>26.0</td>\n",
       "    </tr>\n",
       "    <tr>\n",
       "      <th>4</th>\n",
       "      <td>campinas</td>\n",
       "      <td>SP</td>\n",
       "      <td>4</td>\n",
       "      <td>braganca paulista</td>\n",
       "      <td>SP</td>\n",
       "      <td>utilidades_domesticas</td>\n",
       "      <td>625.0</td>\n",
       "      <td>17.0</td>\n",
       "      <td>13.0</td>\n",
       "    </tr>\n",
       "    <tr>\n",
       "      <th>...</th>\n",
       "      <td>...</td>\n",
       "      <td>...</td>\n",
       "      <td>...</td>\n",
       "      <td>...</td>\n",
       "      <td>...</td>\n",
       "      <td>...</td>\n",
       "      <td>...</td>\n",
       "      <td>...</td>\n",
       "      <td>...</td>\n",
       "    </tr>\n",
       "    <tr>\n",
       "      <th>99436</th>\n",
       "      <td>sao paulo</td>\n",
       "      <td>SP</td>\n",
       "      <td>99436</td>\n",
       "      <td>NaN</td>\n",
       "      <td>NaN</td>\n",
       "      <td>NaN</td>\n",
       "      <td>NaN</td>\n",
       "      <td>NaN</td>\n",
       "      <td>NaN</td>\n",
       "    </tr>\n",
       "    <tr>\n",
       "      <th>99437</th>\n",
       "      <td>taboao da serra</td>\n",
       "      <td>SP</td>\n",
       "      <td>99437</td>\n",
       "      <td>NaN</td>\n",
       "      <td>NaN</td>\n",
       "      <td>NaN</td>\n",
       "      <td>NaN</td>\n",
       "      <td>NaN</td>\n",
       "      <td>NaN</td>\n",
       "    </tr>\n",
       "    <tr>\n",
       "      <th>99438</th>\n",
       "      <td>fortaleza</td>\n",
       "      <td>CE</td>\n",
       "      <td>99438</td>\n",
       "      <td>NaN</td>\n",
       "      <td>NaN</td>\n",
       "      <td>NaN</td>\n",
       "      <td>NaN</td>\n",
       "      <td>NaN</td>\n",
       "      <td>NaN</td>\n",
       "    </tr>\n",
       "    <tr>\n",
       "      <th>99439</th>\n",
       "      <td>canoas</td>\n",
       "      <td>RS</td>\n",
       "      <td>99439</td>\n",
       "      <td>NaN</td>\n",
       "      <td>NaN</td>\n",
       "      <td>NaN</td>\n",
       "      <td>NaN</td>\n",
       "      <td>NaN</td>\n",
       "      <td>NaN</td>\n",
       "    </tr>\n",
       "    <tr>\n",
       "      <th>99440</th>\n",
       "      <td>cotia</td>\n",
       "      <td>SP</td>\n",
       "      <td>99440</td>\n",
       "      <td>NaN</td>\n",
       "      <td>NaN</td>\n",
       "      <td>NaN</td>\n",
       "      <td>NaN</td>\n",
       "      <td>NaN</td>\n",
       "      <td>NaN</td>\n",
       "    </tr>\n",
       "  </tbody>\n",
       "</table>\n",
       "<p>99441 rows × 9 columns</p>\n",
       "</div>"
      ],
      "text/plain": [
       "               customer_city customer_state  merge_id        seller_city  \\\n",
       "0                     franca             SP         0           campinas   \n",
       "1      sao bernardo do campo             SP         1         mogi guacu   \n",
       "2                  sao paulo             SP         2     rio de janeiro   \n",
       "3            mogi das cruzes             SP         3          sao paulo   \n",
       "4                   campinas             SP         4  braganca paulista   \n",
       "...                      ...            ...       ...                ...   \n",
       "99436              sao paulo             SP     99436                NaN   \n",
       "99437        taboao da serra             SP     99437                NaN   \n",
       "99438              fortaleza             CE     99438                NaN   \n",
       "99439                 canoas             RS     99439                NaN   \n",
       "99440                  cotia             SP     99440                NaN   \n",
       "\n",
       "      seller_state  product_category_name  product_weight_g  \\\n",
       "0               SP             perfumaria             225.0   \n",
       "1               SP                  artes            1000.0   \n",
       "2               RJ          esporte_lazer             154.0   \n",
       "3               SP                  bebes             371.0   \n",
       "4               SP  utilidades_domesticas             625.0   \n",
       "...            ...                    ...               ...   \n",
       "99436          NaN                    NaN               NaN   \n",
       "99437          NaN                    NaN               NaN   \n",
       "99438          NaN                    NaN               NaN   \n",
       "99439          NaN                    NaN               NaN   \n",
       "99440          NaN                    NaN               NaN   \n",
       "\n",
       "       product_height_cm  product_width_cm  \n",
       "0                   10.0              14.0  \n",
       "1                   18.0              20.0  \n",
       "2                    9.0              15.0  \n",
       "3                    4.0              26.0  \n",
       "4                   17.0              13.0  \n",
       "...                  ...               ...  \n",
       "99436                NaN               NaN  \n",
       "99437                NaN               NaN  \n",
       "99438                NaN               NaN  \n",
       "99439                NaN               NaN  \n",
       "99440                NaN               NaN  \n",
       "\n",
       "[99441 rows x 9 columns]"
      ]
     },
     "execution_count": 194,
     "metadata": {},
     "output_type": "execute_result"
    }
   ],
   "source": [
    "#Resultado final\n",
    "df_final"
   ]
  },
  {
   "cell_type": "code",
   "execution_count": 195,
   "metadata": {},
   "outputs": [],
   "source": [
    "#Exportando a base final\n",
    "df_final.to_csv('base_final_s14.csv', index=False)"
   ]
  },
  {
   "cell_type": "markdown",
   "metadata": {},
   "source": [
    "<h2 style='font-family: Lucida Console; text-align:center;'>Análise de Dados:</h2>\n",
    "<p style=\"text-align: justify\">Agora vamos responder as seguintes questões através dos dados:</p>\n",
    "<ul><h4 style='font-family: Lucida Console; text-align:justify; margin-left: 0 !important;'><li>Quais são os tipos de produtos mais comuns comprado por clientes da cidade de São Paulo?</li></h4></ul>"
   ]
  },
  {
   "cell_type": "code",
   "execution_count": 208,
   "metadata": {},
   "outputs": [
    {
     "name": "stdout",
     "output_type": "stream",
     "text": [
      "Os tipos de produtoss mais comuns comprados por clientes de São Paulo são: \n",
      " product_category_name\n",
      "cama_mesa_banho           505\n",
      "esporte_lazer             434\n",
      "moveis_decoracao          420\n",
      "beleza_saude              394\n",
      "utilidades_domesticas     341\n",
      "automotivo                309\n",
      "brinquedos                247\n",
      "informatica_acessorios    240\n",
      "relogios_presentes        216\n",
      "telefonia                 167\n",
      "Name: count, dtype: int64\n"
     ]
    }
   ],
   "source": [
    "#Primeiro vamos isolar o df para compradores de São Paulo\n",
    "df_sao_paulo = df_final[df_final['customer_city'] == 'sao paulo'] \n",
    "#Agora vamos separar as categorias de produtos compradas\n",
    "df_sao_paulo_cat = df_sao_paulo['product_category_name'].value_counts()\n",
    "#Agora vamos exibir os resultados de maneira descendente\n",
    "contagem_categorias = df_sao_paulo_cat.sort_values(ascending=False)\n",
    "#Criando um ranking\n",
    "top_contagem_categorias = contagem_categorias.head(10)\n",
    "\n",
    "#O output\n",
    "print(f\"Os tipos de produtoss mais comuns comprados por clientes de São Paulo são: \\n {top_contagem_categorias}\")"
   ]
  },
  {
   "cell_type": "markdown",
   "metadata": {},
   "source": [
    "<ul><h4 style='font-family: Lucida Console; text-align:justify; margin-left: 0 !important;'><li>Em Salvador, há mais compradores ou vendores?</li></h4></ul>"
   ]
  },
  {
   "cell_type": "code",
   "execution_count": 218,
   "metadata": {},
   "outputs": [
    {
     "name": "stdout",
     "output_type": "stream",
     "text": [
      "Há mais compradores que vendedores em Salvador. \n",
      " O número de vendedores é: 7, enquanto o de compradores é 1245.\n"
     ]
    }
   ],
   "source": [
    "#Criando variáveis para os vendedores e compradores de Salvador\n",
    "compradores_salvador = df_final[df_final['customer_city'] == 'salvador']\n",
    "vendedores_salvador = df_final[df_final['seller_city'] == 'salvador']\n",
    "#Agora determinando o número de vezes que eles aparecem no df_final\n",
    "numero_compradores = len(compradores_salvador)\n",
    "numero_vendedores = len(vendedores_salvador)\n",
    "#Agora uma pequena estrutura para imprimir o valor com a resposta\n",
    "if numero_compradores > numero_vendedores:\n",
    "  print(f'Há mais compradores que vendedores em Salvador. \\n O número de vendedores é: {numero_vendedores}, enquanto o de compradores é {numero_compradores}.')\n",
    "elif numero_vendedores > numero_compradores:\n",
    "  print(f\"Há mais vendedore que compradores em Salvador \\n O número de vendedores é: {numero_vendedores}, enquanto o de compradores é {numero_compradores}.\")\n",
    "else:\n",
    "  print(f\"Há um número idêntico entre vendedores e compradores de Salvador no dataframe \\n O número de vendedores é: {numero_vendedores}, enquanto o de compradores é {numero_compradores}.\")"
   ]
  },
  {
   "cell_type": "markdown",
   "metadata": {},
   "source": [
    "<ul><h4 style='font-family: Lucida Console; text-align:justify; margin-left: 0 !important;'><li>Qual a cidade que tem mais compradores? Qual tem mais vendedores?</li></h4></ul>"
   ]
  },
  {
   "cell_type": "code",
   "execution_count": 228,
   "metadata": {},
   "outputs": [
    {
     "name": "stdout",
     "output_type": "stream",
     "text": [
      "A cidade com mais compradores é: sao paulo com o número de 15540 compradores.\n",
      "A cidade com mais vendedores é sao paulo com o número de 694 vendedores.\n"
     ]
    }
   ],
   "source": [
    "#Começaremos contando o número único de vendedores e compradores pela cidade\n",
    "contagem_vendedores = df_clientes.groupby('customer_city')['merge_id'].nunique().reset_index()\n",
    "contagem_clientes = df_vendedores.groupby('seller_city')['merge_id'].nunique().reset_index()\n",
    "# Renomenado as colunas com o resultado da contagem\n",
    "contagem_vendedores = contagem_vendedores.rename(columns={'merge_id': 'num_buyers'})\n",
    "contagem_clientes = contagem_clientes.rename(columns={'merge_id': 'num_sellers'})\n",
    "# Descobrindo a cidade que tem mais vendedores e mais compradores\n",
    "city_with_most_buyers = contagem_vendedores.sort_values('num_buyers', ascending=False).iloc[0]\n",
    "city_with_most_sellers = contagem_clientes.sort_values('num_sellers', ascending=False).iloc[0]\n",
    "#Imprimindo a resposta\n",
    "print(f\"A cidade com mais compradores é: {city_with_most_buyers['customer_city']} com o número de {city_with_most_buyers['num_buyers']} compradores.\")\n",
    "print(f\"A cidade com mais vendedores é {city_with_most_sellers['seller_city']} com o número de {city_with_most_sellers['num_sellers']} vendedores.\")\n"
   ]
  },
  {
   "cell_type": "markdown",
   "metadata": {},
   "source": [
    "<ul><h4 style='font-family: Lucida Console; text-align:justify; margin-left: 0 !important;'><li>Qual a média de peso dos produtos vendidos por categoria?</li></h4></ul>"
   ]
  },
  {
   "cell_type": "code",
   "execution_count": 248,
   "metadata": {},
   "outputs": [
    {
     "name": "stdout",
     "output_type": "stream",
     "text": [
      "Os 5 produtos mais pesados estão nas categorias (e com as respectivas médias em gramas): \n",
      "product_category_name\n",
      "agro_industria_e_comercio    5263.41\n",
      "alimentos                     923.41\n",
      "alimentos_bebidas            1307.93\n",
      "artes                        1691.76\n",
      "artes_e_artesanato           1164.58\n",
      "Name: product_weight_g, dtype: object\n",
      "\n",
      "Os 5 produtos mais leves estão nas categorias (e com as respectivas médias em gramas): \n",
      "product_category_name\n",
      "sinalizacao_e_seguranca     2969.82\n",
      "tablets_impressao_imagem     381.44\n",
      "telefonia                    236.51\n",
      "telefonia_fixa               660.83\n",
      "utilidades_domesticas       3020.79\n",
      "Name: product_weight_g, dtype: object\n"
     ]
    }
   ],
   "source": [
    "#Agrupando por product_category_name e a média de peso em grama\n",
    "contagem_media = df_final.groupby('product_category_name')['product_weight_g'].mean()\n",
    "#Resetando o index para evitar erros\n",
    "contagem_media.reset_index()\n",
    "#Para fins de formatação, a média terá apenas 2 casas decimais após o ponto\n",
    "media_formatada = contagem_media.map('{:.2f}'.format)\n",
    "#Demonstrando os valores\n",
    "print(f\"Os 5 produtos mais pesados estão nas categorias (e com as respectivas médias em gramas): \\n{media_formatada.head(5)}\\n\")\n",
    "print(f\"Os 5 produtos mais leves estão nas categorias (e com as respectivas médias em gramas): \\n{media_formatada.tail(5)}\")"
   ]
  },
  {
   "cell_type": "markdown",
   "metadata": {},
   "source": [
    "<h2 style='font-family: Lucida Console; text-align:center;'>Visualização de dados:</h2>\n",
    "<p style=\"text-align: justify\">Agora vamos criar três visualizações de planilhas com o dataframe final:</p>"
   ]
  },
  {
   "cell_type": "code",
   "execution_count": 249,
   "metadata": {},
   "outputs": [],
   "source": [
    "#Importando as bibliotecas necessárias\n",
    "import seaborn as sns\n",
    "import matplotlib.pyplot as plt"
   ]
  },
  {
   "cell_type": "markdown",
   "metadata": {},
   "source": [
    "<ul><h4 style='font-family: Lucida Console; text-align:justify; margin-left: 0 !important;'><li>Em quais categorias estão os maiores produtos vendidos?</li></h4></ul>"
   ]
  },
  {
   "cell_type": "code",
   "execution_count": 264,
   "metadata": {},
   "outputs": [
    {
     "data": {
      "image/png": "[encoded data removed]",
      "text/plain": [
       "<Figure size 1500x800 with 1 Axes>"
      ]
     },
     "metadata": {},
     "output_type": "display_data"
    }
   ],
   "source": [
    "#Selecionando o top 5 de categorias de produto por tamanho em cm \n",
    "top_categorias = df_final.groupby('product_category_name')['product_height_cm'].mean().nlargest(5).index\n",
    "#Filtrando o dataframe para as categorias que eu selecionei\n",
    "df_filtrado = df_final[df_final['product_category_name'].isin(top_categorias)]\n",
    "# Definir tamanho da figura\n",
    "plt.figure(figsize=(15, 8))\n",
    "primeiros_rank  = df_final['product_category_name'].head(5)\n",
    "# Instanciar o tipo de plotagem\n",
    "sns.countplot(data=df_filtrado, x='product_category_name', hue='product_height_cm')\n",
    "# Definir texto do título e eixos x e y\n",
    "plt.title('Top 5 maiores produtos (por altura)')\n",
    "plt.xlabel('Categoria do produto')\n",
    "plt.ylabel('Contagem')\n",
    "\n",
    "plt.show()"
   ]
  },
  {
   "cell_type": "markdown",
   "metadata": {},
   "source": [
    "<ul><h4 style='font-family: Lucida Console; text-align:justify; margin-left: 0 !important;'><li>Qual a visualização do número de clientes por estado?</li></h4></ul>"
   ]
  },
  {
   "cell_type": "code",
   "execution_count": 275,
   "metadata": {},
   "outputs": [
    {
     "data": {
      "image/png": "[encoded data removed]",
      "text/plain": [
       "<Figure size 1000x600 with 1 Axes>"
      ]
     },
     "metadata": {},
     "output_type": "display_data"
    }
   ],
   "source": [
    "# Definir tamanho da figura\n",
    "plt.figure(figsize=(10, 6))\n",
    "# Determinando de forma decrescente a contagem para melhor visualização \n",
    "contagem_estado = df_final['customer_state'].value_counts().reset_index()\n",
    "contagem_estado.columns = ['State', 'Count']\n",
    "contagem_estado = contagem_estado.sort_values(by='Count', ascending=False)\n",
    "# Instanciar a contagem por estado\n",
    "sns.barplot(data=contagem_estado, x='State', y='Count', order=contagem_estado['State'])\n",
    "# Definir texto do título e eixos x e y\n",
    "plt.title('Número de clientes por estado')\n",
    "plt.xlabel('Estado')\n",
    "plt.ylabel('Contagem')\n",
    "# Definindo a rotação pra ficar mais fácil de ler\n",
    "plt.xticks(rotation=45)\n",
    "#Mostrando a tabela final\n",
    "plt.show()"
   ]
  },
  {
   "cell_type": "markdown",
   "metadata": {},
   "source": [
    "<ul><h4 style='font-family: Lucida Console; text-align:justify; margin-left: 0 !important;'><li>Qual a visualização do número de vendedores por estado?</li></h4></ul>"
   ]
  },
  {
   "cell_type": "code",
   "execution_count": 276,
   "metadata": {},
   "outputs": [
    {
     "data": {
      "image/png": "[encoded data removed]",
      "text/plain": [
       "<Figure size 1000x600 with 1 Axes>"
      ]
     },
     "metadata": {},
     "output_type": "display_data"
    }
   ],
   "source": [
    "# Definir tamanho da figura\n",
    "plt.figure(figsize=(10, 6))\n",
    "# Determinando de forma decrescente a contagem para melhor visualização \n",
    "contagem_estado_vendedor = df_final['seller_state'].value_counts().reset_index()\n",
    "contagem_estado_vendedor.columns = ['State', 'Count']\n",
    "contagem_estado_vendedor = contagem_estado_vendedor.sort_values(by='Count', ascending=False)\n",
    "# Instanciar a contagem por estado\n",
    "sns.barplot(data=contagem_estado_vendedor, x='State', y='Count', order=contagem_estado_vendedor['State'])\n",
    "# Definir texto do título e eixos x e y\n",
    "plt.title('Número de vendedores por estado')\n",
    "plt.xlabel('Estado')\n",
    "plt.ylabel('Contagem')\n",
    "# Definindo a rotação pra ficar mais fácil de ler\n",
    "plt.xticks(rotation=45)\n",
    "#Mostrando a tabela final\n",
    "plt.show()"
   ]
  }
 ],
 "metadata": {
  "kernelspec": {
   "display_name": "Python 3",
   "language": "python",
   "name": "python3"
  },
  "language_info": {
   "codemirror_mode": {
    "name": "ipython",
    "version": 3
   },
   "file_extension": ".py",
   "mimetype": "text/x-python",
   "name": "python",
   "nbconvert_exporter": "python",
   "pygments_lexer": "ipython3",
   "version": "3.11.6"
  }
 },
 "nbformat": 4,
 "nbformat_minor": 2
}
