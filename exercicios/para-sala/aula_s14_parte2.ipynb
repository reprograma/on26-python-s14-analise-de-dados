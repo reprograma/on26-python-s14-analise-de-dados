{
 "cells": [
  {
   "cell_type": "markdown",
   "id": "daf030af-35da-4f4c-a4b0-5de2e6f34898",
   "metadata": {},
   "source": [
    "# Analisando os dados da Olist\n",
    "\n",
    "Para a nossa segunda parte da aula, iremos trabalhar em cima de uma base de dados disponibilizada pela Olist, uma empresa de e-commerce. Essa base de dados\n",
    "é composta por 9 tabelas, conforme o seguinte esquema:\n",
    "\n",
    "![](banco_de_dados_olist.png)\n",
    "\n",
    "Essa base de dados é uma base menos \"limpa\" e é o que mais se aproxima da análise de dados do dia-a-dia de uma pessoa que trabalha com dados no mundo corporativo. Com essas tabelas, precisaremos demais manipulações de dados de forma mais minuciona que aquela que fizemos pela manhã. Vamos lá!"
   ]
  },
  {
   "cell_type": "markdown",
   "id": "6166142c-6155-4371-8376-5ab2aaad012b",
   "metadata": {},
   "source": [
    "Para ter acesso à base de dados, acesse: https://www.kaggle.com/datasets/olistbr/brazilian-ecommerce\n"
   ]
  },
  {
   "cell_type": "markdown",
   "id": "0d6cb4bd-0aa8-4183-bb9d-8c30cf928bf1",
   "metadata": {},
   "source": [
    "# Coleta dos Dados"
   ]
  },
  {
   "cell_type": "markdown",
   "id": "d22b6b80-f2cc-42c4-a3e1-fc77f92ecef2",
   "metadata": {},
   "source": [
    "Nossa base de dados da Olist é composta por 9 tabelas diferentes, nelas temos informações de:\n",
    "- pedidos (olist_orders_dataset)\n",
    "- itens dos pedidos (olist_order_items_dataset)\n",
    "- review dos usuários sobre os pedidos (olist_order_reviews_dataset)\n",
    "- detalhes de pagamento dos pedidos (olist_order_payments_dataset)\n",
    "- detalhes do consumidor que fez os pedidos (olist_customers_dataset)\n",
    "- detalhes de geolocalização do consumidor (olist_geolocation_dataset)\n",
    "- detalhes dos produtos (olist_products_dataset)\n",
    "- detalhes dos vendedores (olist_sellers_dataset)\n",
    "\n",
    "Nesta aula, iremos focar em três datasets, o de pedidos (olist_orders_dataset), itens do pedido (olist_order_items_dataset) e o de consumidor (olist_customers_dataset). Vamos lá!"
   ]
  },
  {
   "cell_type": "code",
   "execution_count": null,
   "id": "79fa9794-5c8b-4673-99ea-e126ddff12e5",
   "metadata": {},
   "outputs": [],
   "source": [
    "import pandas as pd"
   ]
  },
  {
   "cell_type": "code",
   "execution_count": null,
   "id": "6ad52907-0da5-4e5d-bbf4-077b1fb79773",
   "metadata": {},
   "outputs": [],
   "source": [
    "df_pedidos = pd.read_csv('olist_orders_dataset.csv')\n",
    "df_pedidos"
   ]
  },
  {
   "cell_type": "markdown",
   "id": "754c23dc-f03f-452a-b7d7-1b2a7f199fee",
   "metadata": {},
   "source": [
    "Para a tabela de pedidos, iremos utilizar as seguintes colunas:\n",
    "\n",
    "- **order_id**: Identificador do pedido\n",
    "- **customer_id**: Identificador do cliente. Essa coluna é importante pois será a nossa chave com a tabela de consumidor\n",
    "- **order_status**: Status do pedido\n",
    "- **order_purchase_timestamp**: timestamp do horário que a compra foi feita\n",
    "- **order_delivered_customer_date**: timestamp do horário que a compra foi entregue ao cliente"
   ]
  },
  {
   "cell_type": "code",
   "execution_count": null,
   "id": "61e589ac-aa0d-4e11-ad17-ea896414d9e6",
   "metadata": {},
   "outputs": [],
   "source": [
    "df_itens_pedido = pd.read_csv('dataset_olist/olist_order_items_dataset.csv')\n",
    "df_itens_pedido"
   ]
  },
  {
   "cell_type": "markdown",
   "id": "c590d71e-f8ad-40c3-ba32-79da2ff7a3bb",
   "metadata": {},
   "source": [
    "Para a tabela de itens dos pedidos, iremos utilizar as seguintes colunas:\n",
    "\n",
    "- **order_id**: Identificador do pedido. Será a nossa chave com a tabela de pedidos\n",
    "- **product_id**: Identificador do produto\n",
    "- **seller_id**: Identificador do vendedor\n",
    "- **shipping_limit_date**: timestamp limite para a entrega do pedido\n",
    "- **price**: valor do pedido\n",
    "- **freight_value**: valor do frete"
   ]
  },
  {
   "cell_type": "code",
   "execution_count": null,
   "id": "5e543be1-db9a-4ef4-a2bf-70e9e4fbbcfd",
   "metadata": {},
   "outputs": [],
   "source": [
    "df_consumidor = pd.read_csv('dataset_olist/olist_customers_dataset.csv')\n",
    "df_consumidor"
   ]
  },
  {
   "cell_type": "markdown",
   "id": "b1999b26-8dcd-48b3-978f-6be4ea9afd76",
   "metadata": {},
   "source": [
    "Para a tabela de consumidor, iremos utilizar as seguintes colunas:\n",
    "\n",
    "- **customer_id**: Identificador do cliente. Essa coluna é importante pois será a nossa chave com a tabela de pedidos. \n",
    "- **customer_state**: Estado\n",
    "- **customer_city**: Cidade"
   ]
  },
  {
   "cell_type": "markdown",
   "id": "8a05e8ee-7c32-4cda-a1bc-4759d45eec00",
   "metadata": {},
   "source": [
    "# Objetivo da nossa Análise Exploratória:\n",
    "\n",
    "Lembra que pela manhã comentamos a necessidade de estabelecer nossas perguntas para direcionar nossas análises? Para essa segunda parte da aula, buscaremos responder perguntas simples com base nessas 3 tabelas:\n",
    "\n",
    "- Qual a frequência de compra dos clientes na plataforma da Olist no ano de 2017?\n",
    "- Qual é o valor médio das compras desses clientes?  \n",
    "- O número de vendas varia de acordo com a época do ano?\n",
    "- O tempo limite de entrega das compras está sendo respeitado?"
   ]
  },
  {
   "cell_type": "markdown",
   "id": "05695ac8-33d8-4093-9a9e-ef59f8dc953d",
   "metadata": {},
   "source": [
    "# Limpando os dados da Olist"
   ]
  },
  {
   "cell_type": "markdown",
   "id": "7a19fa15-983d-46da-b4af-59b5315b88c8",
   "metadata": {},
   "source": [
    "## Pedidos"
   ]
  },
  {
   "cell_type": "code",
   "execution_count": null,
   "id": "a95b133f-bab8-46d0-9e60-eecfef5f1420",
   "metadata": {},
   "outputs": [],
   "source": [
    "# Vamos entender um pouquinho melhor dos nossos dados\n",
    "df_pedidos.info()"
   ]
  },
  {
   "cell_type": "markdown",
   "id": "b67d45a5-7c4f-4ae0-9913-323025f57ff8",
   "metadata": {},
   "source": [
    "Estamos lidando com um dataset relativamente grande, com quase 100.000 linhas. Temos dados nulos nas colunas de data,\n",
    "o que faz sentido, pois nem todo o pedido realizado foi devidamente pago e finalizado, então aqueles pedidos que por algum motivo não foram finalizados. Por isso, algumas informações não estarão disponíveis. Por exemplo: um pedido que teve o pagamento negado, não terá dados de entrega. "
   ]
  },
  {
   "cell_type": "code",
   "execution_count": null,
   "id": "475bdd28-d85e-4c97-8512-ceb67a2f179a",
   "metadata": {},
   "outputs": [],
   "source": [
    "# Vamos começar nossa limpeza filtrando somente as colunas que desejamos utilizar\n",
    "columns_drop = ['order_approved_at', 'order_delivered_carrier_date', 'order_estimated_delivery_date']\n",
    "df_pedidos = df_pedidos.drop(columns_drop, axis=1)\n",
    "df_pedidos"
   ]
  },
  {
   "cell_type": "code",
   "execution_count": null,
   "id": "6b0bc2c0-ca98-4173-b0b7-89ae09ea7ec9",
   "metadata": {},
   "outputs": [],
   "source": [
    "# Agora iremos filtrar somente aqueles pedidos que foram finalizados, mas antes é importante entender todos os status disponíveis que temos na base\n",
    "df_pedidos['order_status'].unique()"
   ]
  },
  {
   "cell_type": "code",
   "execution_count": null,
   "id": "063dac3d-200c-4978-9987-11fe2ea8f556",
   "metadata": {},
   "outputs": [],
   "source": [
    "# filtrando apenas os pedidos que foram entregues\n",
    "df_pedidos = df_pedidos.loc[df_pedidos['order_status'] == 'delivered']\n",
    "df_pedidos"
   ]
  },
  {
   "cell_type": "code",
   "execution_count": null,
   "id": "d1621bab-dfbf-49d6-bef1-1eb21c69feb3",
   "metadata": {},
   "outputs": [],
   "source": [
    "# Filtrando somente pedidos finalizados, percebemos que perdemos um número razoável de linhas, cerca de 3 mil.\n",
    "# Agora, com nosso dataset filtrado, precisamos resetar o seu index:\n",
    "df_pedidos = df_pedidos.reset_index(drop=True)\n",
    "df_pedidos"
   ]
  },
  {
   "cell_type": "code",
   "execution_count": null,
   "id": "5ced8fac-cd8c-4f57-925f-2ea1a596b0ee",
   "metadata": {},
   "outputs": [],
   "source": [
    "# Para fecharmos a limpeza dessa tabela, precisamos criar uma coluna de mês! Uma das perguntas que precisamos responder é se existe sazonalidade\n",
    "# nas vendas, então, criar uma coluna de mês irá facilitar bastante nosso trabalho na etapa de análise:\n",
    "\n",
    "# Vamos transformar nossas colunas de data (que estão como string) em data: \n",
    "df_pedidos['order_purchase_timestamp'] = pd.to_datetime(df_pedidos['order_purchase_timestamp'])\n",
    "df_pedidos['order_delivered_customer_date'] = pd.to_datetime(df_pedidos['order_delivered_customer_date'])\n",
    "\n",
    "# Agora sim, vamos criar uma coluna de mês!\n",
    "df_pedidos['reference_month'] = df_pedidos['order_purchase_timestamp'].dt.strftime('%Y-%m-01')\n",
    "df_pedidos"
   ]
  },
  {
   "cell_type": "markdown",
   "id": "58bcc966-8aff-432e-a58f-32dc42606df8",
   "metadata": {},
   "source": [
    "## Itens do Pedido"
   ]
  },
  {
   "cell_type": "code",
   "execution_count": null,
   "id": "a18a5a54-4c16-4d0c-b4f6-c36d45412f56",
   "metadata": {},
   "outputs": [],
   "source": [
    "# Vamos entender um pouquinho melhor dos nossos dados\n",
    "df_itens_pedido.info()"
   ]
  },
  {
   "cell_type": "markdown",
   "id": "f21d10d2-2260-4dfa-a0f2-1b241d59fb7a",
   "metadata": {},
   "source": [
    "Estamos lidando com um dataset um pouco maior que o de pedidos, o que faz sentido, pois nossa informação aqui está a nível de item, e um pedido pode ter 1 ou mais itens. Não temos dados nulos nessa tabela, mas isso não significa que aqui constam somente pedidos confirmados, tá? Precisaremos filtrá-los em breve. "
   ]
  },
  {
   "cell_type": "markdown",
   "id": "b6ea3729-d5d3-4dc9-97d0-6433df814526",
   "metadata": {},
   "source": [
    "## Consumidor"
   ]
  },
  {
   "cell_type": "code",
   "execution_count": null,
   "id": "9e43c970-3417-4b9c-8d82-effe9c67d7b4",
   "metadata": {},
   "outputs": [],
   "source": [
    "# Vamos entender um pouquinho melhor dos nossos dados\n",
    "df_consumidor.info()"
   ]
  },
  {
   "cell_type": "code",
   "execution_count": null,
   "id": "858fb618-8699-440a-af35-15d516aaed59",
   "metadata": {},
   "outputs": [],
   "source": [
    "df_consumidor = df_consumidor.drop('customer_unique_id', axis=1)\n",
    "df_consumidor"
   ]
  },
  {
   "cell_type": "markdown",
   "id": "83acbf5d-eec3-4d6c-a90f-41eef474ef22",
   "metadata": {},
   "source": [
    "## Juntando os três datasets"
   ]
  },
  {
   "cell_type": "markdown",
   "id": "b6863202-b92a-4798-aa12-115fad6e1bfe",
   "metadata": {},
   "source": [
    "Agora que fizemos a limpeza dos nossos três datasets, chegou a hora de juntarmos de acordo com a coluna em comum em cada um deles. Um ponto importante \n",
    "aqui é que queremos manter as informações que correspondem somente à pedidos **finalizados**. \n",
    "\n",
    "Para unir os 3 datasets usaremos a função merge(), precisamos entender qual é a coluna em comum entre os 3: no nosso caso, serão as colunas customer_id e order_id. \n",
    "\n"
   ]
  },
  {
   "cell_type": "code",
   "execution_count": null,
   "id": "49e98e5f-9663-4861-8995-16df74efcefa",
   "metadata": {},
   "outputs": [],
   "source": [
    "# Por padrão é realizado o merge dos dados com o inner join\n",
    "# Jutando os df pedidos e itens de pedidos\n",
    "df_olist = pd.merge(df_pedidos, df_itens_pedido, on='order_id')\n",
    "df_olist"
   ]
  },
  {
   "cell_type": "code",
   "execution_count": null,
   "metadata": {},
   "outputs": [],
   "source": [
    "# Jutando agora com os dados de consumidor\n",
    "df_olist = pd.merge(df_olist, df_consumidor, on='customer_id')\n",
    "df_olist"
   ]
  },
  {
   "cell_type": "code",
   "execution_count": null,
   "id": "aedd74e3-c64f-4c07-af8e-f18267de5e07",
   "metadata": {},
   "outputs": [],
   "source": [
    "# Exportando a base final (p/ encaminhar para as alunas)\n",
    "df_olist.to_csv('base_final_s14_olist.csv', index=False)"
   ]
  },
  {
   "cell_type": "markdown",
   "id": "34312ae8-ce3b-45f7-8756-c98b6f18e10a",
   "metadata": {},
   "source": [
    "# Analisando os dados\n",
    "\n",
    "Agora chegou a hora de respondermos as perguntas que estipulamos no começo dessa análise:\n",
    "- Qual é o valor médio das compras desses clientes?  \n",
    "- O número de vendas varia de acordo com a época do ano?\n",
    "- O tempo limite de entrega das compras está sendo respeitado?"
   ]
  },
  {
   "cell_type": "markdown",
   "id": "1a59d2a3-879f-49d5-9082-027d4f8dedb6",
   "metadata": {},
   "source": [
    "### Qual é o valor médio das compras desses clientes? E qual o valor médio pago em frete?\n"
   ]
  },
  {
   "cell_type": "code",
   "execution_count": null,
   "id": "e54ccf66-1283-4bd0-a256-1127cb89d297",
   "metadata": {},
   "outputs": [],
   "source": [
    "# Aqui estamos buscando uma estatística descritiva, podemos utilizar a nossa função describe() para trazer essas informações\n",
    "df_olist.describe().T"
   ]
  },
  {
   "cell_type": "markdown",
   "id": "c92eac96-de34-4abc-84e7-dd5c39d94072",
   "metadata": {},
   "source": [
    "Apesar de termos pedidos com valores bem altos, como o caso do pedido no valor de R$ 6735, a média dos pedidos está cerca de 120 reais. O frete segue o mesmo padrão, sendo cerca de 10% do valor do pedido. \n",
    "\n",
    "Fazendo uma análise adicional aqui, pela coluna order_item_id, conseguimos observar a quantidade de itens que temos dentro de um pedido. A média de cada um desses pedidos é ter cerca de 1,2 itens. Sendo o seu máximo, um pedido que possui 21 itens iguais. "
   ]
  },
  {
   "cell_type": "markdown",
   "id": "bfabf48f-563b-4a9d-bef2-59bf7b45f028",
   "metadata": {},
   "source": [
    "### O número de vendas varia de acordo com a época do ano?\n",
    "\n",
    "![](calendario-sazonalidades.jpg)\n",
    "Fonte: https://pagar.me/blog/como-lidar-com-a-sazonalidade-de-vendas-no-e-commerce/\n",
    "\n",
    "\n",
    "As sazonalidades podem ser positivas ou negativas, e essa imagem pode nos ajudar a interpretar nossos dados."
   ]
  },
  {
   "cell_type": "code",
   "execution_count": null,
   "id": "b922c099-89fd-40d8-9330-b8b332ba11e3",
   "metadata": {},
   "outputs": [],
   "source": [
    "# Agora, vamos fazer uma análise de sazonalidade. Será que o número de vendas aumenta ou diminui de acordo com a época do ano?\n",
    "df_sazonalidade = df_olist.groupby('reference_month').agg({'order_id': 'nunique'})\n",
    "df_sazonalidade.sort_values(by='order_id', ascending=False)"
   ]
  },
  {
   "cell_type": "markdown",
   "id": "b15bb513-593a-4a37-9737-4c9de881523e",
   "metadata": {},
   "source": [
    "### O tempo limite de entrega das compras está sendo respeitado?\n"
   ]
  },
  {
   "cell_type": "code",
   "execution_count": null,
   "id": "a8b7d4a6-f899-4019-816a-97584718318b",
   "metadata": {},
   "outputs": [],
   "source": [
    "# Para essa análise, iremos criar uma classificação para o status do frete, sendo: ATRASADO, ADIANTADO e DENTRO DO ESPERADO, e então iremos observar a proporção\n",
    "# dos pedidos para cada status.\n",
    "\n",
    "df_olist['order_purchase_timestamp'] = pd.to_datetime(df_olist['order_purchase_timestamp'])\n",
    "df_olist['order_delivered_customer_date'] = pd.to_datetime(df_olist['order_delivered_customer_date'])\n",
    "\n",
    "df_olist['order_delivered_date'] = df_olist['order_delivered_customer_date'].dt.date\n",
    "df_olist['shipping_limit_dt'] = pd.to_datetime(df_olist['shipping_limit_date']).dt.date\n",
    "\n",
    "df_olist.loc[df_olist['order_delivered_date'] > df_olist['shipping_limit_dt'], 'status_entrega'] = 'ATRASADO'\n",
    "df_olist.loc[df_olist['order_delivered_date'] < df_olist['shipping_limit_dt'], 'status_entrega'] = 'ADIANTADO'\n",
    "df_olist.loc[df_olist['order_delivered_date'] == df_olist['shipping_limit_dt'], 'status_entrega'] = 'DENTRO DO ESPERADO'\n",
    "df_olist"
   ]
  },
  {
   "cell_type": "code",
   "execution_count": null,
   "id": "32ab7765-704d-4e23-9dee-733b6fc6f064",
   "metadata": {},
   "outputs": [],
   "source": [
    "df_olist[\"status_entrega\"].value_counts(normalize=True)\n",
    "\n",
    "# Ou seja, cerca de 72% dos pedidos chegam atrasados na casa dos consumidores. É interessante entender o padrão aqui, esse status se mantém de acordo com \n",
    "# a cidade? O quanto esse status mudaria se olhassemos para uma cidade grande tipo São Paulo? \n",
    "\n",
    "# Nota para a professora: Esses questionamentos colocamos após as análises não devem ser resolvidos por você. A ideia aqui é que eles sejam feitos para instigar o senso investigativo\n",
    "# das alunas e ajudá-las a pensar em perguntas para a dinâmica a seguir."
   ]
  },
  {
   "cell_type": "markdown",
   "id": "bb3b8b06-b7c7-4e5c-96e1-34f365312d0e",
   "metadata": {},
   "source": [
    "# Dinâmica: Explorando os dados da Olist\n",
    "\n",
    "Para essa dinâmica, vocês terão 30 minutos para continuar explorando a base que criamos durante essa aula. A ideia é que vocês estipulem 3 a 5 perguntas simples (diferentes da que fizemos em aula) e faça as análises necessárias para chegar em sua resposta. "
   ]
  },
  {
   "cell_type": "code",
   "execution_count": null,
   "id": "bb43c624",
   "metadata": {},
   "outputs": [],
   "source": [
    "# estado com maior quantidade de compra\n",
    "df_olist['customer_state'].value_counts()"
   ]
  },
  {
   "cell_type": "code",
   "execution_count": null,
   "id": "2642e45a",
   "metadata": {},
   "outputs": [],
   "source": [
    "# quais são os 5 estados que mais compram?\n",
    "df_olist['customer_state'].value_counts(normalize=False).head(5)"
   ]
  },
  {
   "cell_type": "code",
   "execution_count": null,
   "id": "38600a9a",
   "metadata": {},
   "outputs": [],
   "source": [
    "# \n",
    "df_olist['status_entrega'].value_counts()"
   ]
  },
  {
   "cell_type": "code",
   "execution_count": null,
   "id": "cc9f21c7",
   "metadata": {},
   "outputs": [],
   "source": [
    "df_olist['reference_month'] = df_olist['order_purchase_timestamp'].dt.month\n",
    "df_olist"
   ]
  },
  {
   "cell_type": "code",
   "execution_count": null,
   "id": "3c159fea",
   "metadata": {},
   "outputs": [],
   "source": [
    "df_olist.groupby(['status_entrega', 'reference_month']).agg({'order_id': 'count'}).reset_index().sort_values('order_id', ascending=False)"
   ]
  },
  {
   "cell_type": "markdown",
   "id": "4b687b3f-a1cc-4e97-b16d-4772d579064a",
   "metadata": {},
   "source": [
    "# Dinâmica: Visualizações dos dados da Olist\n",
    "\n",
    "Para essa dinâmica, vocês terão 40 minutos para criar as visualizações da base que criamos nessa aula (e com qualquer incremento que vocês fizeram à base na dinâmica anterior). \n",
    "\n",
    "Crie visualizações que te ajudem à responder as perguntas que vocês fizeram na dinâmica anterior. Utilize os conhecimentos da base da Netflix que fizemos pela manhã para criar seus próprios gráficos.\n"
   ]
  },
  {
   "cell_type": "markdown",
   "id": "b8a2d0ef-41cb-4fd9-b944-4fe29c3910d7",
   "metadata": {},
   "source": [
    "# Desafio da Semana\n",
    "\n",
    "Objetivo: Sedimentar os conhecimentos de Análise de Dados que aprendemos nessa aula. \n",
    "\n",
    "Desafio: Criar um notebook de análise exploratória (como fizemos na nossa aula de hoje) com todas as etapas de coleta, limpeza, análise e visualização com base de dados da Olist.\n",
    "\n",
    "Requisitos: \n",
    "- Formular o mínimo de 4 perguntas para responder com suas análises;\n",
    "- Utilizar pelo menos 3 bases de dados da Olist (caso você deseje criar sua base do zero). Caso deseje continuar utilizando a que criamos em aula, é necessário incluir pelo menos mais 2 tabelas para enriquecer sua análise.   \n",
    "- Criar pelo menos 3 gráficos.\n",
    "- Exporte sua base final.\n",
    "\n",
    "\n",
    "Submeta uma pasta que contenha: \n",
    "- o arquivo .ipynb com sua análise exploratória;\n",
    "- a base final criada por você no formato .csv;\n",
    "- as bases da olist em .csv que você utilizou na criação da sua analise exploratória.\n"
   ]
  }
 ],
 "metadata": {
  "kernelspec": {
   "display_name": "Python 3 (ipykernel)",
   "language": "python",
   "name": "python3"
  },
  "language_info": {
   "codemirror_mode": {
    "name": "ipython",
    "version": 3
   },
   "file_extension": ".py",
   "mimetype": "text/x-python",
   "name": "python",
   "nbconvert_exporter": "python",
   "pygments_lexer": "ipython3",
   "version": "3.11.4"
  }
 },
 "nbformat": 4,
 "nbformat_minor": 5
}
